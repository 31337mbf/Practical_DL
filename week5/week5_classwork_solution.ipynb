{
 "cells": [
  {
   "cell_type": "code",
   "execution_count": 3,
   "metadata": {
    "collapsed": false
   },
   "outputs": [],
   "source": [
    "import numpy as np\n",
    "import theano\n",
    "import theano.tensor as T\n",
    "import lasagne\n",
    "import os\n",
    "\n",
    "#thanks Muammar \n",
    "PAD_ix=-1"
   ]
  },
  {
   "cell_type": "markdown",
   "metadata": {},
   "source": [
    "# Problem & Dataset\n",
    "\n",
    "* We solve a problem of transribing english words.\n",
    "* word (sequence of letters) -> transcipt (sequence of phonemes)\n",
    "* The problem is, some letters correspond to several phonemes and others - to none.\n",
    "* We solve it through encoder-decoder recurrent neural networks\n",
    "* This architecture is generally about converting ANY sequence into ANY other sequence. It could even become president one day."
   ]
  },
  {
   "cell_type": "code",
   "execution_count": 2,
   "metadata": {
    "collapsed": false
   },
   "outputs": [],
   "source": [
    "with open(\"./train.csv\") as fin:\n",
    "    ids,words,transcripts = zip(*[line.split(',') for line in list(fin)[1:]])\n",
    "    words = [word+\"@\" for word in words]\n",
    "    transcripts = [[\"START\"]+ts[:-2].split()+[\"END\"] for ts in transcripts]"
   ]
  },
  {
   "cell_type": "code",
   "execution_count": 3,
   "metadata": {
    "collapsed": false
   },
   "outputs": [],
   "source": [
    "phonemes = list(set([token for ts in transcripts for token in ts]))\n",
    "phoneme_to_ix = {ph:i for i,ph in enumerate(phonemes)}"
   ]
  },
  {
   "cell_type": "code",
   "execution_count": 4,
   "metadata": {
    "collapsed": false
   },
   "outputs": [],
   "source": [
    "letters = list(set([token for word in words for token in word]))\n",
    "letter_to_ix = {l:i for i,l in enumerate(letters)}"
   ]
  },
  {
   "cell_type": "code",
   "execution_count": 5,
   "metadata": {
    "collapsed": false
   },
   "outputs": [
    {
     "data": {
      "image/png": "[encoded data removed]",
      "text/plain": [
       "<matplotlib.figure.Figure at 0x7f2ff7983f10>"
      ]
     },
     "metadata": {},
     "output_type": "display_data"
    }
   ],
   "source": [
    "import matplotlib.pyplot as plt\n",
    "%matplotlib inline\n",
    "plt.hist(map(len,transcripts),bins=25);\n",
    "\n",
    "# truncate names longer than MAX_LEN characters. \n",
    "MAX_LEN = min([60,max(list(map(len,transcripts)))])\n",
    "#ADJUST IF YOU ARE UP TO SOMETHING SERIOUS\n"
   ]
  },
  {
   "cell_type": "markdown",
   "metadata": {},
   "source": [
    "### Cast everything from symbols into matrix of int32. Pad with -1"
   ]
  },
  {
   "cell_type": "code",
   "execution_count": 6,
   "metadata": {
    "collapsed": false
   },
   "outputs": [],
   "source": [
    "def as_matrix(sequences,token_to_i, max_len=None,PAX_ix=PAD_ix):\n",
    "    max_len = max_len or max(map(len,sequences))\n",
    "    \n",
    "    matrix = np.zeros((len(sequences),max_len),dtype='int8') -1\n",
    "    for i,seq in enumerate(sequences):\n",
    "        row_ix = map(token_to_i.get,seq)[:max_len]\n",
    "        matrix[i,:len(row_ix)] = row_ix\n",
    "    \n",
    "    return matrix\n"
   ]
  },
  {
   "cell_type": "code",
   "execution_count": null,
   "metadata": {
    "collapsed": true
   },
   "outputs": [],
   "source": [
    "print as_matrix(words[:10],letter_to_ix)"
   ]
  },
  {
   "cell_type": "markdown",
   "metadata": {},
   "source": [
    "# Input variables"
   ]
  },
  {
   "cell_type": "code",
   "execution_count": 7,
   "metadata": {
    "collapsed": true
   },
   "outputs": [],
   "source": [
    "input_sequence = T.matrix('token sequence','int32')\n",
    "target_phonemes = T.matrix('target phonemes','int32')\n"
   ]
  },
  {
   "cell_type": "markdown",
   "metadata": {},
   "source": [
    "# Build NN\n",
    "\n",
    "You will be building a model that takes token sequence and predicts next token\n",
    "\n",
    "\n",
    "* iput sequence\n",
    "* one-hot / embedding\n",
    "* recurrent layer(s)\n",
    "* otput layer(s) that predict output probabilities\n"
   ]
  },
  {
   "cell_type": "code",
   "execution_count": 8,
   "metadata": {
    "collapsed": true
   },
   "outputs": [],
   "source": [
    "from lasagne.layers import InputLayer,DenseLayer,EmbeddingLayer\n",
    "from lasagne.layers import RecurrentLayer,LSTMLayer,GRULayer,CustomRecurrentLayer"
   ]
  },
  {
   "cell_type": "code",
   "execution_count": 9,
   "metadata": {
    "collapsed": false
   },
   "outputs": [],
   "source": [
    "\n",
    "##ENCODER\n",
    "l_in = lasagne.layers.InputLayer(shape=(None, None),input_var=input_sequence)\n",
    "l_mask = lasagne.layers.InputLayer(shape=(None, None),input_var=T.neq(input_sequence,-1))\n",
    "l_emb = lasagne.layers.EmbeddingLayer(l_in, len(letters), 40)\n",
    "l_rnn = lasagne.layers.GRULayer(l_emb,256,only_return_final=True,mask_input=l_mask)\n",
    "\n",
    "##DECODER\n",
    "transc_in = lasagne.layers.InputLayer(shape=(None, None),input_var=target_phonemes)\n",
    "transc_mask = lasagne.layers.InputLayer(shape=(None, None),input_var=T.neq(target_phonemes,-1))\n",
    "transc_emb = lasagne.layers.EmbeddingLayer(transc_in, len(phonemes), 50)\n",
    "transc_rnn = lasagne.layers.GRULayer(transc_emb,256,hid_init=l_rnn,mask_input=transc_mask)\n",
    "\n",
    "\n",
    "#flatten batch and time to be compatible with feedforward layers (will un-flatten later)\n",
    "transc_rnn_flat = lasagne.layers.reshape(transc_rnn, (-1,transc_rnn.output_shape[-1]))\n",
    "\n",
    "l_out = lasagne.layers.DenseLayer(transc_rnn_flat,len(phonemes),nonlinearity=lasagne.nonlinearities.softmax)\n",
    "\n"
   ]
  },
  {
   "cell_type": "code",
   "execution_count": 10,
   "metadata": {
    "collapsed": false
   },
   "outputs": [
    {
     "name": "stdout",
     "output_type": "stream",
     "text": [
      "[W, W, W_in_to_updategate, W_hid_to_updategate, b_updategate, W_in_to_resetgate, W_hid_to_resetgate, b_resetgate, W_in_to_hidden_update, W_hid_to_hidden_update, b_hidden_update, W_in_to_updategate, W_hid_to_updategate, b_updategate, W_in_to_resetgate, W_hid_to_resetgate, b_resetgate, W_in_to_hidden_update, W_hid_to_hidden_update, b_hidden_update, W, b]\n"
     ]
    }
   ],
   "source": [
    "# Model weights\n",
    "weights = lasagne.layers.get_all_params(l_out,trainable=True)\n",
    "print weights"
   ]
  },
  {
   "cell_type": "code",
   "execution_count": 11,
   "metadata": {
    "collapsed": false
   },
   "outputs": [],
   "source": [
    "network_output = lasagne.layers.get_output(l_out)\n",
    "network_output = <reshape to [batch_i, time_tick, number_of_phonemes] symbolically> \n",
    "#If you use dropout do not forget to create deterministic version for evaluation"
   ]
  },
  {
   "cell_type": "code",
   "execution_count": 12,
   "metadata": {
    "collapsed": false
   },
   "outputs": [],
   "source": [
    "predictions_flat = network_output[:,:-1,:].reshape([-1,len(phonemes)])\n",
    "targets = target_phonemes[:,1:].ravel()\n",
    "\n",
    "#do not count loss for '-1' tokens\n",
    "mask = T.nonzero(T.neq(targets,-1))\n",
    "\n",
    "loss = T.nnet.categorical_crossentropy(predictions[mask],targets[mask])\n",
    "\n",
    "\n",
    "updates = lasagne.updates.adam(loss.mean(),weights)"
   ]
  },
  {
   "cell_type": "markdown",
   "metadata": {},
   "source": [
    "# Compiling it"
   ]
  },
  {
   "cell_type": "code",
   "execution_count": 13,
   "metadata": {
    "collapsed": false
   },
   "outputs": [],
   "source": [
    "\n",
    "#training\n",
    "train = theano.function([input_sequence, target_phonemes], loss, updates=updates, allow_input_downcast=True)\n",
    "\n",
    "#computing loss without training\n",
    "compute_cost = theano.function([input_sequence, target_phonemes], loss, allow_input_downcast=True)\n"
   ]
  },
  {
   "cell_type": "markdown",
   "metadata": {},
   "source": [
    "# generation\n",
    "\n",
    "Simple: \n",
    "* get initial context(seed), \n",
    "* predict next token probabilities,\n",
    "* sample next token, \n",
    "* add it to the context\n",
    "* repeat from step 2\n",
    "\n",
    "You'll get a more detailed info on how it works in the homework section."
   ]
  },
  {
   "cell_type": "code",
   "execution_count": 14,
   "metadata": {
    "collapsed": false
   },
   "outputs": [],
   "source": [
    "#compile the function that computes probabilities for next token given previous text.\n",
    "\n",
    "#reshape back into original shape\n",
    "network_output = network_output.reshape((target_phonemes.shape[0],target_phonemes.shape[1],len(phonemes)))\n",
    "#predictions for next tokens (after sequence end)\n",
    "last_word_probas = network_output[:,-1]\n",
    "probs = theano.function([input_sequence,target_phonemes],last_word_probas,allow_input_downcast=True)\n"
   ]
  },
  {
   "cell_type": "code",
   "execution_count": 15,
   "metadata": {
    "collapsed": false
   },
   "outputs": [],
   "source": [
    "def generate_transcript(word,transcript_prefix = (\"START\",),t=1,sample=True):\n",
    "    \n",
    "    transcript = list(transcript_prefix)\n",
    "    while True:\n",
    "        next_phoneme_probs = probs(as_matrix([word],letter_to_ix),as_matrix([transcript],phoneme_to_ix) ).ravel()\n",
    "        next_phoneme_probs = next_phoneme_probs**t / np.sum(next_phoneme_probs**t)\n",
    "\n",
    "        if sample:\n",
    "            next_phoneme = np.random.choice(phonemes,p=next_phoneme_probs) \n",
    "        else:\n",
    "            next_phoneme = phonemes[np.argmax(next_phoneme_probs)]\n",
    "\n",
    "        transcript.append(next_phoneme)\n",
    "\n",
    "        if next_phoneme==\"END\":\n",
    "            break\n",
    "    return transcript"
   ]
  },
  {
   "cell_type": "markdown",
   "metadata": {},
   "source": [
    "# Model training\n",
    "\n",
    "Here you can tweak parameters or insert your generation function\n",
    "\n",
    "\n",
    "__Once something word-like starts generating, try increasing seq_length__\n",
    "\n"
   ]
  },
  {
   "cell_type": "markdown",
   "metadata": {},
   "source": [
    "# Умная мысля 2\n",
    "Имеет смысл не брать случайные слова, а сэмплить более качественно\n",
    "1) перемешаем номера примеров\n",
    "2) проходим по первым 100(batch_size) примерам, потом по вторым 100 ... и так до конца выборки\n",
    "\n",
    "повторять до победы"
   ]
  },
  {
   "cell_type": "code",
   "execution_count": 16,
   "metadata": {
    "collapsed": true
   },
   "outputs": [],
   "source": [
    "words = np.array(words)\n",
    "transcripts = np.array(transcripts)"
   ]
  },
  {
   "cell_type": "code",
   "execution_count": 17,
   "metadata": {
    "collapsed": true
   },
   "outputs": [],
   "source": [
    "def sample_batch(words,transcripts, batch_size):\n",
    "    \n",
    "    batch_ix = np.random.randint(0,len(words),size=batch_size)\n",
    "    words_batch=as_matrix(words[batch_ix],letter_to_ix) \n",
    "    transcripts_batch=as_matrix(transcripts[batch_ix],phoneme_to_ix)\n",
    "    return words_batch,transcripts_batch"
   ]
  },
  {
   "cell_type": "code",
   "execution_count": 19,
   "metadata": {
    "collapsed": false
   },
   "outputs": [
    {
     "name": "stdout",
     "output_type": "stream",
     "text": [
      "Collecting tqdm\n",
      "  Downloading tqdm-4.8.4-py2.py3-none-any.whl\n",
      "Installing collected packages: tqdm\n",
      "Successfully installed tqdm-4.8.4\n"
     ]
    }
   ],
   "source": [
    "\n",
    "!pip install tqdm\n",
    "from tqdm import tqdm"
   ]
  },
  {
   "cell_type": "code",
   "execution_count": 21,
   "metadata": {
    "collapsed": false
   },
   "outputs": [
    {
     "name": "stderr",
     "output_type": "stream",
     "text": [
      "  0%|          | 1/500 [00:00<01:27,  5.73it/s]"
     ]
    },
    {
     "name": "stdout",
     "output_type": "stream",
     "text": [
      "Training ...\n"
     ]
    },
    {
     "name": "stderr",
     "output_type": "stream",
     "text": [
      "100%|██████████| 500/500 [00:49<00:00, 10.02it/s]\n"
     ]
    },
    {
     "name": "stdout",
     "output_type": "stream",
     "text": [
      "Epoch 0 average loss = 1.85032779562\n",
      "ARCADIANS@ : R AA K T IH N AH L\n",
      "COPSEY@ : K AA S T IY\n",
      "DEVRY@ : D IH D ER\n",
      "SPINOFFS@ :"
     ]
    },
    {
     "name": "stderr",
     "output_type": "stream",
     "text": [
      "  0%|          | 1/500 [00:00<00:51,  9.69it/s]"
     ]
    },
    {
     "name": "stdout",
     "output_type": "stream",
     "text": [
      " S P IH NG K AH S\n",
      "REVELING@ : R IH Z IH NG L AH N\n"
     ]
    },
    {
     "name": "stderr",
     "output_type": "stream",
     "text": [
      "100%|██████████| 500/500 [00:50<00:00,  8.44it/s]\n"
     ]
    },
    {
     "name": "stdout",
     "output_type": "stream",
     "text": [
      "Epoch 1 average loss = 1.45303875083\n",
      "BENNARDO@ : B EH N D AO R D\n",
      "APHRODISIAC@ :"
     ]
    },
    {
     "name": "stderr",
     "output_type": "stream",
     "text": [
      "\r",
      "  0%|          | 0/500 [00:00<?, ?it/s]"
     ]
    },
    {
     "name": "stdout",
     "output_type": "stream",
     "text": [
      " AE K R IH F IH K T IH Z\n",
      "BRONZE@ : B R AE N Z\n",
      "NAPROSYN@ : N AE D R AH M AH N\n",
      "WYNETTE@ : W IH N T\n"
     ]
    },
    {
     "name": "stderr",
     "output_type": "stream",
     "text": [
      "100%|██████████| 500/500 [00:55<00:00,  9.09it/s]\n"
     ]
    },
    {
     "name": "stdout",
     "output_type": "stream",
     "text": [
      "Epoch 2 average loss = 1.21868729433\n",
      "DESMITH@ : D IH S K AA D\n",
      "WATERMAN@ : W UH D ER M AH N\n",
      "ELLY@ : EH L IY\n",
      "REGULATED@ :"
     ]
    },
    {
     "name": "stderr",
     "output_type": "stream",
     "text": [
      "  0%|          | 1/500 [00:00<00:50,  9.98it/s]"
     ]
    },
    {
     "name": "stdout",
     "output_type": "stream",
     "text": [
      " R IY G L AH D IH NG\n",
      "SADISM@ : S AE D Z IH M\n"
     ]
    },
    {
     "name": "stderr",
     "output_type": "stream",
     "text": [
      "100%|██████████| 500/500 [00:49<00:00, 10.02it/s]\n"
     ]
    },
    {
     "name": "stdout",
     "output_type": "stream",
     "text": [
      "Epoch 3 average loss = 1.09711241991\n",
      "SANDWICH@ : S AE N D IY F\n",
      "SPOTLIGHTING@ : S P AA L T IH G AH N T\n",
      "PERMITTED@ :"
     ]
    },
    {
     "name": "stderr",
     "output_type": "stream",
     "text": [
      "\r",
      "  0%|          | 0/500 [00:00<?, ?it/s]"
     ]
    },
    {
     "name": "stdout",
     "output_type": "stream",
     "text": [
      " P ER M IH T IH D\n",
      "LOVLER@ : L OW V ER\n",
      "DADDY'S@ : D AA D IY Z\n"
     ]
    },
    {
     "name": "stderr",
     "output_type": "stream",
     "text": [
      "100%|██████████| 500/500 [00:52<00:00,  9.44it/s]\n"
     ]
    },
    {
     "name": "stdout",
     "output_type": "stream",
     "text": [
      "Epoch 4 average loss = 0.975313797031\n",
      "BLACKS'@ : B L AE K S\n",
      "MAKEOVERS@ : M AH K EY T ER Z\n",
      "EVIN@ : EY V IH N\n",
      "BUTTER@ : B AH T ER\n",
      "GALERIES@ :"
     ]
    },
    {
     "name": "stderr",
     "output_type": "stream",
     "text": [
      "  0%|          | 1/500 [00:00<01:00,  8.19it/s]"
     ]
    },
    {
     "name": "stdout",
     "output_type": "stream",
     "text": [
      " G AA L R IY Z\n"
     ]
    },
    {
     "name": "stderr",
     "output_type": "stream",
     "text": [
      "100%|██████████| 500/500 [00:51<00:00,  8.83it/s]\n"
     ]
    },
    {
     "name": "stdout",
     "output_type": "stream",
     "text": [
      "Epoch 5 average loss = 0.890361384073\n",
      "PAMPER@ : P AE M P ER\n",
      "TABLECLOTHS@ : T AE B L AH K L EY T S\n",
      "TUINSTRA@ :"
     ]
    },
    {
     "name": "stderr",
     "output_type": "stream",
     "text": [
      "\r",
      "  0%|          | 0/500 [00:00<?, ?it/s]"
     ]
    },
    {
     "name": "stdout",
     "output_type": "stream",
     "text": [
      " T IH N T R AE K T\n",
      "DRAKEFORD@ : D R AE K F ER D\n",
      "PANACO@ : P AE N AH K OW\n"
     ]
    },
    {
     "name": "stderr",
     "output_type": "stream",
     "text": [
      "100%|██████████| 500/500 [00:50<00:00,  9.93it/s]\n"
     ]
    },
    {
     "name": "stdout",
     "output_type": "stream",
     "text": [
      "Epoch 6 average loss = 0.810319096288\n",
      "OUTMANNED@ : AW T M AH N D\n",
      "VOELKER@ : V AA L ER K\n",
      "CESAR@ : S EH K ER\n",
      "AUGENSTEIN@ :"
     ]
    },
    {
     "name": "stderr",
     "output_type": "stream",
     "text": [
      "  0%|          | 1/500 [00:00<00:52,  9.42it/s]"
     ]
    },
    {
     "name": "stdout",
     "output_type": "stream",
     "text": [
      " AH JH IH N S T IY N\n",
      "POLITICS'@ : P OW L IY T IH S\n"
     ]
    },
    {
     "name": "stderr",
     "output_type": "stream",
     "text": [
      "100%|██████████| 500/500 [00:50<00:00,  8.63it/s]\n"
     ]
    },
    {
     "name": "stdout",
     "output_type": "stream",
     "text": [
      "Epoch 7 average loss = 0.756217607067\n",
      "TOTEMS@ : T AH T IH M Z\n",
      "CREWES@ : K R IY Z\n",
      "HRIVNAK@ : R IH N T AH K\n",
      "PROJECTS@ : P R AH T EH K T S\n",
      "TOTING@ :"
     ]
    },
    {
     "name": "stderr",
     "output_type": "stream",
     "text": [
      "  0%|          | 1/500 [00:00<01:10,  7.06it/s]"
     ]
    },
    {
     "name": "stdout",
     "output_type": "stream",
     "text": [
      " T AH T IH NG\n"
     ]
    },
    {
     "name": "stderr",
     "output_type": "stream",
     "text": [
      "100%|██████████| 500/500 [00:52<00:00,  7.85it/s]\n"
     ]
    },
    {
     "name": "stdout",
     "output_type": "stream",
     "text": [
      "Epoch 8 average loss = 0.701356052742\n",
      "INTERLAKE'S@ : IH N ER AH L AH S\n",
      "KWEISI@ : K W IY S IY\n",
      "NATURALIZES@ :"
     ]
    },
    {
     "name": "stderr",
     "output_type": "stream",
     "text": [
      "\r",
      "  0%|          | 0/500 [00:00<?, ?it/s]"
     ]
    },
    {
     "name": "stdout",
     "output_type": "stream",
     "text": [
      " N AA T ER W AA L AH S\n",
      "DELICACY@ : D IH L IH K S IY\n",
      "ULCERATION@ : AH L K ER SH AH N\n"
     ]
    },
    {
     "name": "stderr",
     "output_type": "stream",
     "text": [
      "100%|██████████| 500/500 [00:57<00:00, 10.09it/s]\n"
     ]
    },
    {
     "name": "stdout",
     "output_type": "stream",
     "text": [
      "Epoch 9 average loss = 0.653565513083\n",
      "RUDENESS@ : R AH D AH N Z\n",
      "ARGOT@ : AA R G AH T\n",
      "SHOWCASE@ : SH OW K AH S\n",
      "MONTH'S@ : M AA D AH Z\n",
      "CORRECTIVE@ :"
     ]
    },
    {
     "name": "stderr",
     "output_type": "stream",
     "text": [
      "  0%|          | 1/500 [00:00<00:55,  9.03it/s]"
     ]
    },
    {
     "name": "stdout",
     "output_type": "stream",
     "text": [
      " K AO R AH S T IH V\n"
     ]
    },
    {
     "name": "stderr",
     "output_type": "stream",
     "text": [
      "100%|██████████| 500/500 [00:53<00:00, 10.10it/s]\n"
     ]
    },
    {
     "name": "stdout",
     "output_type": "stream",
     "text": [
      "Epoch 10 average loss = 0.6332418567\n",
      "VARS@ : V ER Z\n",
      "CREMATE@ : K R EH M EY T\n",
      "COUNSELLORS@ : K AW N S L ER Z\n",
      "MAURICE'S@ :"
     ]
    },
    {
     "name": "stderr",
     "output_type": "stream",
     "text": [
      "\r",
      "  0%|          | 0/500 [00:00<?, ?it/s]"
     ]
    },
    {
     "name": "stdout",
     "output_type": "stream",
     "text": [
      " M AO R IH S IH Z\n",
      "BERGER'S@ : B ER G ER Z\n"
     ]
    },
    {
     "name": "stderr",
     "output_type": "stream",
     "text": [
      "100%|██████████| 500/500 [00:54<00:00,  7.89it/s]\n"
     ]
    },
    {
     "name": "stdout",
     "output_type": "stream",
     "text": [
      "Epoch 11 average loss = 0.603553995531\n",
      "IACOCCA@ : Y UW K AA S AH\n",
      "WHACKO@ : HH AA K OW\n",
      "SUSTEREN@ : S AH S T ER N\n",
      "DWI@ : D IY\n",
      "DELIVERED@ :"
     ]
    },
    {
     "name": "stderr",
     "output_type": "stream",
     "text": [
      "  0%|          | 1/500 [00:00<01:00,  8.20it/s]"
     ]
    },
    {
     "name": "stdout",
     "output_type": "stream",
     "text": [
      " D EH L IH V ER D\n"
     ]
    },
    {
     "name": "stderr",
     "output_type": "stream",
     "text": [
      "100%|██████████| 500/500 [00:54<00:00,  7.99it/s]\n"
     ]
    },
    {
     "name": "stdout",
     "output_type": "stream",
     "text": [
      "Epoch 12 average loss = 0.576738259877\n",
      "GAMEKEEPERS@ : G AE M IH K T ER Z\n",
      "ATTRIBUTION@ : AE T R IH B Y UW EY SH AH N\n",
      "DEVIATES@ : D EH V IY AH T S\n",
      "NONVIOLENT@ : N AA N V IY AH L EY T\n",
      "CONGRESSWOMEN@ :"
     ]
    },
    {
     "name": "stderr",
     "output_type": "stream",
     "text": [
      "  0%|          | 1/500 [00:00<01:27,  5.68it/s]"
     ]
    },
    {
     "name": "stdout",
     "output_type": "stream",
     "text": [
      " K AA NG G R AH S F IH L M AH N\n"
     ]
    },
    {
     "name": "stderr",
     "output_type": "stream",
     "text": [
      "100%|██████████| 500/500 [00:59<00:00,  8.80it/s]\n"
     ]
    },
    {
     "name": "stdout",
     "output_type": "stream",
     "text": [
      "Epoch 13 average loss = 0.548812184544\n",
      "TERRILE@ : T EH R AH L\n",
      "FLEMINGS@ : F L EH M IH NG Z\n",
      "MULTIFACET@ :"
     ]
    },
    {
     "name": "stderr",
     "output_type": "stream",
     "text": [
      "\r",
      "  0%|          | 0/500 [00:00<?, ?it/s]"
     ]
    },
    {
     "name": "stdout",
     "output_type": "stream",
     "text": [
      " M AH L F AH K EY T\n",
      "SHOWIEST@ : SH AW Y UW IH T S\n",
      "OSTIN@ : AA S T IH N\n"
     ]
    },
    {
     "name": "stderr",
     "output_type": "stream",
     "text": [
      "100%|██████████| 500/500 [00:59<00:00,  6.75it/s]\n"
     ]
    },
    {
     "name": "stdout",
     "output_type": "stream",
     "text": [
      "Epoch 14 average loss = 0.540459259586\n",
      "HYPERBOLE@ : HH AY P ER B AH L\n",
      "GATELY@ : G EY T L IY\n",
      "PASSERBY@ :"
     ]
    },
    {
     "name": "stderr",
     "output_type": "stream",
     "text": [
      "\r",
      "  0%|          | 0/500 [00:00<?, ?it/s]"
     ]
    },
    {
     "name": "stdout",
     "output_type": "stream",
     "text": [
      " P AE S ER B IY\n",
      "WASS@ : W AA S\n",
      "QUERIDA@ : K W EH R IY D AH\n"
     ]
    },
    {
     "name": "stderr",
     "output_type": "stream",
     "text": [
      "100%|██████████| 500/500 [01:05<00:00,  7.82it/s]\n"
     ]
    },
    {
     "name": "stdout",
     "output_type": "stream",
     "text": [
      "Epoch 15 average loss = 0.522364331682\n",
      "ORCHID@ : AO R CH IH D\n",
      "OXYGEN@ : AA K S AY JH AH N\n",
      "CREMATION@ : K R AH M EY SH AH N\n",
      "SATANISM@ :"
     ]
    },
    {
     "name": "stderr",
     "output_type": "stream",
     "text": [
      "\r",
      "  0%|          | 0/500 [00:00<?, ?it/s]"
     ]
    },
    {
     "name": "stdout",
     "output_type": "stream",
     "text": [
      " S AE T AH N IH Z AH M\n",
      "PACKAGED@ : P AE K AH JH D\n"
     ]
    },
    {
     "name": "stderr",
     "output_type": "stream",
     "text": [
      "100%|██████████| 500/500 [01:05<00:00,  8.01it/s]\n"
     ]
    },
    {
     "name": "stdout",
     "output_type": "stream",
     "text": [
      "Epoch 16 average loss = 0.50158768009\n",
      "LOWLAND@ : L OW L AH N D\n",
      "RAPPORT@ : R AE P AO R T\n",
      "MEDITATE@ : M EH D IH T EY T\n",
      "KIRLIN@ :"
     ]
    },
    {
     "name": "stderr",
     "output_type": "stream",
     "text": [
      "\r",
      "  0%|          | 0/500 [00:00<?, ?it/s]"
     ]
    },
    {
     "name": "stdout",
     "output_type": "stream",
     "text": [
      " K ER L IH N\n",
      "KOVALYOV@ : K AH V AA L Y UW V\n"
     ]
    },
    {
     "name": "stderr",
     "output_type": "stream",
     "text": [
      "100%|██████████| 500/500 [01:05<00:00,  7.80it/s]\n"
     ]
    },
    {
     "name": "stdout",
     "output_type": "stream",
     "text": [
      "Epoch 17 average loss = 0.481419608221\n",
      "DEFERENTIAL@ : D IH F ER EH N SH AH L\n",
      "MASAO@ : M AA S OW\n",
      "VYING@ :"
     ]
    },
    {
     "name": "stderr",
     "output_type": "stream",
     "text": [
      "\r",
      "  0%|          | 0/500 [00:00<?, ?it/s]"
     ]
    },
    {
     "name": "stdout",
     "output_type": "stream",
     "text": [
      " V AY IH NG\n",
      "BOTSFORD@ : B AA S T F ER D\n",
      "CLOKE@ : K L OW K\n"
     ]
    },
    {
     "name": "stderr",
     "output_type": "stream",
     "text": [
      "100%|██████████| 500/500 [01:05<00:00,  7.74it/s]\n"
     ]
    },
    {
     "name": "stdout",
     "output_type": "stream",
     "text": [
      "Epoch 18 average loss = 0.468051512583\n",
      "STUNNING@ : S T AH N IH NG\n",
      "HEAPING@ : HH IY P IH NG\n",
      "BOY'S@ : B OY Z\n",
      "BOEPPLE@ : B OW P AH L\n",
      "BART'S@ :"
     ]
    },
    {
     "name": "stderr",
     "output_type": "stream",
     "text": [
      "  0%|          | 1/500 [00:00<01:12,  6.84it/s]"
     ]
    },
    {
     "name": "stdout",
     "output_type": "stream",
     "text": [
      " B AA R T S\n"
     ]
    },
    {
     "name": "stderr",
     "output_type": "stream",
     "text": [
      "100%|██████████| 500/500 [01:05<00:00,  7.34it/s]\n"
     ]
    },
    {
     "name": "stdout",
     "output_type": "stream",
     "text": [
      "Epoch 19 average loss = 0.464308446173\n",
      "MAGRO@ : M AA G R OW\n",
      "BILE@ : B AY L\n",
      "RIEBEL@ : R IY B AH L\n",
      "DEMONSTRATE@ :"
     ]
    },
    {
     "name": "stderr",
     "output_type": "stream",
     "text": [
      "\r",
      "  0%|          | 0/500 [00:00<?, ?it/s]"
     ]
    },
    {
     "name": "stdout",
     "output_type": "stream",
     "text": [
      " D IH M AA N S T R EY T\n",
      "EMBOLISMS@ : IH M B OW L IH N S\n"
     ]
    },
    {
     "name": "stderr",
     "output_type": "stream",
     "text": [
      "100%|██████████| 500/500 [01:05<00:00, 10.12it/s]\n"
     ]
    },
    {
     "name": "stdout",
     "output_type": "stream",
     "text": [
      "Epoch 20 average loss = 0.437489812585\n",
      "FINED@ : F AY N D\n",
      "SLOGGING@ : S L AA G IH NG\n",
      "CERRONE@ : S ER OW N\n",
      "PUGLIA@ : P AH G L IY AH\n",
      "ALITALIA@ :"
     ]
    },
    {
     "name": "stderr",
     "output_type": "stream",
     "text": [
      "  0%|          | 1/500 [00:00<00:50,  9.94it/s]"
     ]
    },
    {
     "name": "stdout",
     "output_type": "stream",
     "text": [
      " AE L AH T AA L IY AH\n"
     ]
    },
    {
     "name": "stderr",
     "output_type": "stream",
     "text": [
      "100%|██████████| 500/500 [00:58<00:00,  5.51it/s]\n"
     ]
    },
    {
     "name": "stdout",
     "output_type": "stream",
     "text": [
      "Epoch 21 average loss = 0.436624642774\n",
      "CLUMSILY@ : K L AH M S L IY\n",
      "GONNERMAN@ :"
     ]
    },
    {
     "name": "stderr",
     "output_type": "stream",
     "text": [
      "\r",
      "  0%|          | 0/500 [00:00<?, ?it/s]"
     ]
    },
    {
     "name": "stdout",
     "output_type": "stream",
     "text": [
      " G AA N ER M AH N\n",
      "HODDUR@ : HH AA D ER\n",
      "ADISQ@ : AA D IH S\n",
      "GIVENS'S@ : G IH V AH N Z IH Z\n"
     ]
    },
    {
     "name": "stderr",
     "output_type": "stream",
     "text": [
      "100%|██████████| 500/500 [01:05<00:00,  8.89it/s]\n",
      "  0%|          | 0/500 [00:00<?, ?it/s]"
     ]
    },
    {
     "name": "stdout",
     "output_type": "stream",
     "text": [
      "Epoch 22 average loss = 0.432119545415\n",
      "TAPERED@ : T AE P ER D\n",
      "BATZEL@ : B AE T AH L\n",
      "ABLES@ : AE B AH L Z\n",
      "BEJAR@ : B IY G ER\n",
      "AZALEAS@ : AH Z AE L AH Z\n"
     ]
    },
    {
     "name": "stderr",
     "output_type": "stream",
     "text": [
      "100%|██████████| 500/500 [01:03<00:00,  7.43it/s]\n"
     ]
    },
    {
     "name": "stdout",
     "output_type": "stream",
     "text": [
      "Epoch 23 average loss = 0.419587944947\n",
      "DESULTORY@ : D IH S AH L T ER IY\n",
      "GOETTING@ : G OW T IH NG\n",
      "REHA@ : R IY HH AH\n",
      "SIFERS@ :"
     ]
    },
    {
     "name": "stderr",
     "output_type": "stream",
     "text": [
      "  0%|          | 1/500 [00:00<00:52,  9.45it/s]"
     ]
    },
    {
     "name": "stdout",
     "output_type": "stream",
     "text": [
      " S AY F ER Z\n",
      "DESTRUCTS@ : D IH S T R AH K T S\n"
     ]
    },
    {
     "name": "stderr",
     "output_type": "stream",
     "text": [
      "100%|██████████| 500/500 [00:58<00:00,  8.97it/s]\n"
     ]
    },
    {
     "name": "stdout",
     "output_type": "stream",
     "text": [
      "Epoch 24 average loss = 0.407202749115\n",
      "CONGEAL@ : K AA N JH AH L\n",
      "SHARPIE@ : SH AA R P IY\n",
      "NITRIC@ : N IH T R IH K\n",
      "TELFAIR@ :"
     ]
    },
    {
     "name": "stderr",
     "output_type": "stream",
     "text": [
      "  0%|          | 1/500 [00:00<00:52,  9.43it/s]"
     ]
    },
    {
     "name": "stdout",
     "output_type": "stream",
     "text": [
      " T EH L F EY ER\n",
      "CLUTTERING@ : K L AH T ER IH NG\n"
     ]
    },
    {
     "name": "stderr",
     "output_type": "stream",
     "text": [
      "100%|██████████| 500/500 [00:58<00:00,  9.10it/s]\n"
     ]
    },
    {
     "name": "stdout",
     "output_type": "stream",
     "text": [
      "Epoch 25 average loss = 0.403361211304\n",
      "NEESE@ : N IY Z\n",
      "WOLFINGER@ : W AO L F IH NG ER\n",
      "ANAMARIA@ : AH N AE M ER IY AH\n",
      "EXAMPLE@ :"
     ]
    },
    {
     "name": "stderr",
     "output_type": "stream",
     "text": [
      "  0%|          | 1/500 [00:00<01:10,  7.12it/s]"
     ]
    },
    {
     "name": "stdout",
     "output_type": "stream",
     "text": [
      " IH G Z AE M P AH L\n",
      "ILIANO@ : IH L IY AA N OW\n"
     ]
    },
    {
     "name": "stderr",
     "output_type": "stream",
     "text": [
      "100%|██████████| 500/500 [00:56<00:00,  7.97it/s]\n"
     ]
    },
    {
     "name": "stdout",
     "output_type": "stream",
     "text": [
      "Epoch 26 average loss = 0.410129525203\n",
      "BENTZ@ : B EH N T S\n",
      "HULING@ : HH AH L IH NG\n",
      "SEMIANNUAL@ : S EH M AH N EY SH AH N\n",
      "WALESA'S@ : W AA L EY Z AH Z\n",
      "UNECONOMIC@ :"
     ]
    },
    {
     "name": "stderr",
     "output_type": "stream",
     "text": [
      "  0%|          | 1/500 [00:00<01:27,  5.71it/s]"
     ]
    },
    {
     "name": "stdout",
     "output_type": "stream",
     "text": [
      " AH N EH K AH N AH M IH K\n"
     ]
    },
    {
     "name": "stderr",
     "output_type": "stream",
     "text": [
      "100%|██████████| 500/500 [01:07<00:00,  6.99it/s]\n"
     ]
    },
    {
     "name": "stdout",
     "output_type": "stream",
     "text": [
      "Epoch 27 average loss = 0.392760082644\n",
      "NIMRODI@ : N IH M R OW D IY\n",
      "ECONOMICALLY@ :"
     ]
    },
    {
     "name": "stderr",
     "output_type": "stream",
     "text": [
      "\r",
      "  0%|          | 0/500 [00:00<?, ?it/s]"
     ]
    },
    {
     "name": "stdout",
     "output_type": "stream",
     "text": [
      " EH K AH N OW M IH K L IY\n",
      "BRANCH@ : B R AE N CH\n",
      "PECAN@ : P EH K AH N\n",
      "GARNISH@ : G AA R N IH SH\n"
     ]
    },
    {
     "name": "stderr",
     "output_type": "stream",
     "text": [
      "100%|██████████| 500/500 [04:04<00:00,  6.41it/s]\n"
     ]
    },
    {
     "name": "stdout",
     "output_type": "stream",
     "text": [
      "Epoch 28 average loss = 0.406933505808\n",
      "OTHMAN'S@ : AH TH M AH N Z\n",
      "REVEALS@ : R IY V AH L Z\n",
      "KIENAST@ : K IY N AH S T\n",
      "STEIB@ : S T AY B\n",
      "ANNALS@ :"
     ]
    },
    {
     "name": "stderr",
     "output_type": "stream",
     "text": [
      "  0%|          | 1/500 [00:00<00:58,  8.59it/s]"
     ]
    },
    {
     "name": "stdout",
     "output_type": "stream",
     "text": [
      " AE N AH L Z\n"
     ]
    },
    {
     "name": "stderr",
     "output_type": "stream",
     "text": [
      "100%|██████████| 500/500 [01:01<00:00,  7.59it/s]\n"
     ]
    },
    {
     "name": "stdout",
     "output_type": "stream",
     "text": [
      "Epoch 29 average loss = 0.37660758284\n",
      "FINGERPRINTED@ : F IH NG G ER P ER IH N T\n",
      "ZISA@ : Z IY S AH\n",
      "PARRINO@ :"
     ]
    },
    {
     "name": "stderr",
     "output_type": "stream",
     "text": [
      "\r",
      "  0%|          | 0/500 [00:00<?, ?it/s]"
     ]
    },
    {
     "name": "stdout",
     "output_type": "stream",
     "text": [
      " P AA R IY N OW\n",
      "BROMFIELD@ : B R AA M F IY L D\n",
      "BUONOMO@ : B UW AA N OW M OW\n"
     ]
    },
    {
     "name": "stderr",
     "output_type": "stream",
     "text": [
      "100%|██████████| 500/500 [00:59<00:00,  8.81it/s]\n"
     ]
    },
    {
     "name": "stdout",
     "output_type": "stream",
     "text": [
      "Epoch 30 average loss = 0.376193572726\n",
      "MECHANICS@ : M EH CH AH N IH K S\n",
      "STALCUP@ : S T AE L K AH P\n",
      "SANCHEZ@ :"
     ]
    },
    {
     "name": "stderr",
     "output_type": "stream",
     "text": [
      "\r",
      "  0%|          | 0/500 [00:00<?, ?it/s]"
     ]
    },
    {
     "name": "stdout",
     "output_type": "stream",
     "text": [
      " S AE N CH IH Z\n",
      "FLAVIA@ : F L AA V IY AH\n",
      "PITFALL@ : P IH T F AH L\n"
     ]
    },
    {
     "name": "stderr",
     "output_type": "stream",
     "text": [
      "100%|██████████| 500/500 [01:10<00:00,  6.68it/s]\n"
     ]
    },
    {
     "name": "stdout",
     "output_type": "stream",
     "text": [
      "Epoch 31 average loss = 0.373149381957\n",
      "MINDED@ : M IH N D IH D\n",
      "WATTLED@ : W AA T AH L D\n",
      "JOVITA@ : JH OW V IY T AH\n",
      "HOUDEK@ : HH AW D EH K\n",
      "BOARDINGS@ :"
     ]
    },
    {
     "name": "stderr",
     "output_type": "stream",
     "text": [
      "\r",
      "  0%|          | 0/500 [00:00<?, ?it/s]"
     ]
    },
    {
     "name": "stdout",
     "output_type": "stream",
     "text": [
      " B AO R D IH NG Z\n"
     ]
    },
    {
     "name": "stderr",
     "output_type": "stream",
     "text": [
      "100%|██████████| 500/500 [01:14<00:00,  5.82it/s]\n"
     ]
    },
    {
     "name": "stdout",
     "output_type": "stream",
     "text": [
      "Epoch 32 average loss = 0.373371990309\n",
      "RELAPSED@ : R IY L AE P S T\n",
      "GEMAYEL@ : JH EH M EY L\n",
      "BREAN@ : B R IY N\n",
      "DUVAL@ :"
     ]
    },
    {
     "name": "stderr",
     "output_type": "stream",
     "text": [
      "\r",
      "  0%|          | 0/500 [00:00<?, ?it/s]"
     ]
    },
    {
     "name": "stdout",
     "output_type": "stream",
     "text": [
      " D UW V AH L\n",
      "VASKE@ : V AE S K\n"
     ]
    },
    {
     "name": "stderr",
     "output_type": "stream",
     "text": [
      "100%|██████████| 500/500 [01:09<00:00,  8.59it/s]\n"
     ]
    },
    {
     "name": "stdout",
     "output_type": "stream",
     "text": [
      "Epoch 33 average loss = 0.375202999539\n",
      "TOPKNOT@ : T AA P N AH T\n",
      "LONSDALE@ : L AA N Z D EY L\n",
      "COZ@ : K AO Z\n",
      "SOMEWHERE@ :"
     ]
    },
    {
     "name": "stderr",
     "output_type": "stream",
     "text": [
      "  0%|          | 1/500 [00:00<01:02,  8.05it/s]"
     ]
    },
    {
     "name": "stdout",
     "output_type": "stream",
     "text": [
      " S AA M Y ER W EH\n",
      "LIDS@ : L IH D Z\n"
     ]
    },
    {
     "name": "stderr",
     "output_type": "stream",
     "text": [
      "100%|██████████| 500/500 [01:06<00:00,  5.27it/s]\n"
     ]
    },
    {
     "name": "stdout",
     "output_type": "stream",
     "text": [
      "Epoch 34 average loss = 0.360430071535\n",
      "AEROFLOT@ : EH R OW F L AA T\n",
      "FEMALE'S@ : F EH M AH L Z\n",
      "MARZULLO@ : M AA R Z UW L OW\n",
      "HERBALISTS'@ : HH ER B AH L AE S T S\n",
      "VANHOOK@ :"
     ]
    },
    {
     "name": "stderr",
     "output_type": "stream",
     "text": [
      "\r",
      "  0%|          | 0/500 [00:00<?, ?it/s]"
     ]
    },
    {
     "name": "stdout",
     "output_type": "stream",
     "text": [
      " V AE N D HH OW K\n"
     ]
    },
    {
     "name": "stderr",
     "output_type": "stream",
     "text": [
      "100%|██████████| 500/500 [01:06<00:00,  7.57it/s]\n"
     ]
    },
    {
     "name": "stdout",
     "output_type": "stream",
     "text": [
      "Epoch 35 average loss = 0.354016243782\n",
      "PLASTICS@ : P L AE S T IH K S\n",
      "SKYROCKETED@ : S K AY R K AH K T IH D\n",
      "ROLLBACKS@ :"
     ]
    },
    {
     "name": "stderr",
     "output_type": "stream",
     "text": [
      "\r",
      "  0%|          | 0/500 [00:00<?, ?it/s]"
     ]
    },
    {
     "name": "stdout",
     "output_type": "stream",
     "text": [
      " R OW L B AE K S\n",
      "FILOSA@ : F IH L OW S AH\n",
      "ACCORDS@ : AH K AO R D Z\n"
     ]
    },
    {
     "name": "stderr",
     "output_type": "stream",
     "text": [
      "100%|██████████| 500/500 [00:59<00:00,  8.37it/s]\n"
     ]
    },
    {
     "name": "stdout",
     "output_type": "stream",
     "text": [
      "Epoch 36 average loss = 0.342721439155\n",
      "ARMOIRES@ : AA R M OY ER Z\n",
      "REABSORB@ : R IY B Z AO R B\n",
      "ALLEGHENY'S@ :"
     ]
    },
    {
     "name": "stderr",
     "output_type": "stream",
     "text": [
      "\r",
      "  0%|          | 0/500 [00:00<?, ?it/s]"
     ]
    },
    {
     "name": "stdout",
     "output_type": "stream",
     "text": [
      " AE L AH G IY N Z\n",
      "CHRONICLING@ : K R AA N IH K L IH NG\n",
      "JURAN@ : Y UH R AH N\n"
     ]
    },
    {
     "name": "stderr",
     "output_type": "stream",
     "text": [
      "100%|██████████| 500/500 [01:00<00:00,  7.94it/s]\n"
     ]
    },
    {
     "name": "stdout",
     "output_type": "stream",
     "text": [
      "Epoch 37 average loss = 0.348222596537\n",
      "DORRELL@ : D AO R AH L\n",
      "WINDSORS@ : W IH N S ER Z\n",
      "RAZA@ : R AA Z AH\n",
      "STAMPFLI@ :"
     ]
    },
    {
     "name": "stderr",
     "output_type": "stream",
     "text": [
      "\r",
      "  0%|          | 0/500 [00:00<?, ?it/s]"
     ]
    },
    {
     "name": "stdout",
     "output_type": "stream",
     "text": [
      " S T AE M P L UW\n",
      "KNACKS@ : N AE K S\n"
     ]
    },
    {
     "name": "stderr",
     "output_type": "stream",
     "text": [
      "100%|██████████| 500/500 [01:14<00:00,  6.91it/s]\n"
     ]
    },
    {
     "name": "stdout",
     "output_type": "stream",
     "text": [
      "Epoch 38 average loss = 0.343827152263\n",
      "VIDEOTAPE@ : V AY D IY OW T EY P\n",
      "KENDALL'S@ : K EH N D AH L Z\n",
      "CRISPINA@ : K R IH S P IY N AH\n",
      "STAHLY@ : S T AE L IY\n",
      "GRACE@ :"
     ]
    },
    {
     "name": "stderr",
     "output_type": "stream",
     "text": [
      "  0%|          | 1/500 [00:00<01:22,  6.06it/s]"
     ]
    },
    {
     "name": "stdout",
     "output_type": "stream",
     "text": [
      " G R EY S\n"
     ]
    },
    {
     "name": "stderr",
     "output_type": "stream",
     "text": [
      "100%|██████████| 500/500 [01:07<00:00,  8.22it/s]\n"
     ]
    },
    {
     "name": "stdout",
     "output_type": "stream",
     "text": [
      "Epoch 39 average loss = 0.327642299501\n",
      "CABEZAS@ : K AA B EH Z AH Z\n",
      "MULTIPLIES@ : M AH L T AH P L IY Z\n",
      "BUCHNER@ :"
     ]
    },
    {
     "name": "stderr",
     "output_type": "stream",
     "text": [
      "\r",
      "  0%|          | 0/500 [00:00<?, ?it/s]"
     ]
    },
    {
     "name": "stdout",
     "output_type": "stream",
     "text": [
      " B AH K N ER\n",
      "SCOVILLE@ : S K AA V IH L\n",
      "CAVIAR@ : K AE V IY AA R\n"
     ]
    },
    {
     "name": "stderr",
     "output_type": "stream",
     "text": [
      "100%|██████████| 500/500 [01:04<00:00,  7.99it/s]\n"
     ]
    },
    {
     "name": "stdout",
     "output_type": "stream",
     "text": [
      "Epoch 40 average loss = 0.337996256996\n",
      "CLAYBAUGH@ : K EY B AO B\n",
      "KNOY@ : N EY\n",
      "NAQUIN@ : N AE K W IH N\n",
      "PADULA@ : P AA D UW L AH\n",
      "CORSA@ :"
     ]
    },
    {
     "name": "stderr",
     "output_type": "stream",
     "text": [
      "  0%|          | 1/500 [00:00<01:32,  5.38it/s]"
     ]
    },
    {
     "name": "stdout",
     "output_type": "stream",
     "text": [
      " K AO R S AH\n"
     ]
    },
    {
     "name": "stderr",
     "output_type": "stream",
     "text": [
      "100%|██████████| 500/500 [01:07<00:00,  8.06it/s]\n"
     ]
    },
    {
     "name": "stdout",
     "output_type": "stream",
     "text": [
      "Epoch 41 average loss = 0.33862787641\n",
      "UNREMITTING@ : AH N R EH M AH T IH NG\n",
      "ROSENBERG@ :"
     ]
    },
    {
     "name": "stderr",
     "output_type": "stream",
     "text": [
      "\r",
      "  0%|          | 0/500 [00:00<?, ?it/s]"
     ]
    },
    {
     "name": "stdout",
     "output_type": "stream",
     "text": [
      " R OW Z AH N B ER G\n",
      "MOERTEL@ : M AO R T EH L\n",
      "ARMY@ : AA R M IY\n",
      "BOLDIN@ : B OW L D IH N\n"
     ]
    },
    {
     "name": "stderr",
     "output_type": "stream",
     "text": [
      "100%|██████████| 500/500 [01:14<00:00,  7.28it/s]\n"
     ]
    },
    {
     "name": "stdout",
     "output_type": "stream",
     "text": [
      "Epoch 42 average loss = 0.343539751706\n",
      "OPINING@ : OW P AY N IH NG\n",
      "SOMBERLY@ : S AA M B ER L IY\n",
      "FULCHER@ : F AH L CH ER\n",
      "LEOTARD@ :"
     ]
    },
    {
     "name": "stderr",
     "output_type": "stream",
     "text": [
      "\r",
      "  0%|          | 0/500 [00:00<?, ?it/s]"
     ]
    },
    {
     "name": "stdout",
     "output_type": "stream",
     "text": [
      " L EH T ER D\n",
      "AMBRIANO@ : AE M B R IY AA N OW\n"
     ]
    },
    {
     "name": "stderr",
     "output_type": "stream",
     "text": [
      "100%|██████████| 500/500 [01:10<00:00,  6.55it/s]\n"
     ]
    },
    {
     "name": "stdout",
     "output_type": "stream",
     "text": [
      "Epoch 43 average loss = 0.319555494121\n",
      "REASSERT@ : R IY S ER T\n",
      "TEMPLES@ : T EH M P AH L Z\n",
      "RYCKMAN@ :"
     ]
    },
    {
     "name": "stderr",
     "output_type": "stream",
     "text": [
      "  0%|          | 1/500 [00:00<00:58,  8.57it/s]"
     ]
    },
    {
     "name": "stdout",
     "output_type": "stream",
     "text": [
      " R IH K M AH N\n",
      "BELTED@ : B EH L T IH D\n",
      "CHIMED@ : CH AY M EH D\n"
     ]
    },
    {
     "name": "stderr",
     "output_type": "stream",
     "text": [
      "100%|██████████| 500/500 [01:14<00:00,  7.98it/s]\n"
     ]
    },
    {
     "name": "stdout",
     "output_type": "stream",
     "text": [
      "Epoch 44 average loss = 0.335268925729\n",
      "NONBANK@ : N AA N B AE NG K\n",
      "ROLEN@ : R OW L AH N\n",
      "WITKOWSKI@ :"
     ]
    },
    {
     "name": "stderr",
     "output_type": "stream",
     "text": [
      "\r",
      "  0%|          | 0/500 [00:00<?, ?it/s]"
     ]
    },
    {
     "name": "stdout",
     "output_type": "stream",
     "text": [
      " V IH CH K AO F S K IY\n",
      "INTERACCIONES@ : IH N T ER SH EY N IY AH S\n",
      "KEARNY@ : K ER N IY\n"
     ]
    },
    {
     "name": "stderr",
     "output_type": "stream",
     "text": [
      "100%|██████████| 500/500 [01:18<00:00,  5.52it/s]\n"
     ]
    },
    {
     "name": "stdout",
     "output_type": "stream",
     "text": [
      "Epoch 45 average loss = 0.311253242568\n",
      "BECKWORTH'S@ : B EH K W ER TH S\n",
      "BURGETT@ : B ER G IH T\n",
      "CRITCHFIELD@ :"
     ]
    },
    {
     "name": "stderr",
     "output_type": "stream",
     "text": [
      "  0%|          | 1/500 [00:00<01:02,  7.97it/s]"
     ]
    },
    {
     "name": "stdout",
     "output_type": "stream",
     "text": [
      " K R IH CH F IY L D\n",
      "LIMA@ : L IY M AH\n",
      "LAVIS@ : L AE V IH S\n"
     ]
    },
    {
     "name": "stderr",
     "output_type": "stream",
     "text": [
      "100%|██████████| 500/500 [01:16<00:00,  8.27it/s]\n"
     ]
    },
    {
     "name": "stdout",
     "output_type": "stream",
     "text": [
      "Epoch 46 average loss = 0.326997609321\n",
      "MANIK@ : M AE N IH K\n",
      "NARDIELLO@ : N AA R D IY OW L IY\n",
      "MARV@ : M AA R V\n",
      "METAMORPHASIS@ :"
     ]
    },
    {
     "name": "stderr",
     "output_type": "stream",
     "text": [
      "  0%|          | 1/500 [00:00<00:54,  9.12it/s]"
     ]
    },
    {
     "name": "stdout",
     "output_type": "stream",
     "text": [
      " M EH T AH M AO R F AH S\n",
      "DUCOMMUN@ : D UW K AH M AH N\n"
     ]
    },
    {
     "name": "stderr",
     "output_type": "stream",
     "text": [
      "100%|██████████| 500/500 [01:16<00:00,  7.44it/s]\n"
     ]
    },
    {
     "name": "stdout",
     "output_type": "stream",
     "text": [
      "Epoch 47 average loss = 0.322882707045\n",
      "LACH@ : L AE K\n",
      "KRAS@ : K R AE S\n",
      "SOLILOQUY@ : S OW L IY L AO F S K IY\n",
      "FER@ : F ER\n",
      "STARTLED@ :"
     ]
    },
    {
     "name": "stderr",
     "output_type": "stream",
     "text": [
      "  0%|          | 1/500 [00:00<01:19,  6.29it/s]"
     ]
    },
    {
     "name": "stdout",
     "output_type": "stream",
     "text": [
      " S T AA R T AH L D\n"
     ]
    },
    {
     "name": "stderr",
     "output_type": "stream",
     "text": [
      "100%|██████████| 500/500 [01:20<00:00,  6.47it/s]\n"
     ]
    },
    {
     "name": "stdout",
     "output_type": "stream",
     "text": [
      "Epoch 48 average loss = 0.320240893905\n",
      "SLATING@ : S L EY T IH NG\n",
      "WHEELABRATOR@ : W IY L B AE G R OW ER\n",
      "NETSCAPE'S@ :"
     ]
    },
    {
     "name": "stderr",
     "output_type": "stream",
     "text": [
      "\r",
      "  0%|          | 0/500 [00:00<?, ?it/s]"
     ]
    },
    {
     "name": "stdout",
     "output_type": "stream",
     "text": [
      " N EH T S K EY P S\n",
      "ENVISIONS@ : EH N V IH ZH AH N Z\n",
      "PIPPIN@ : P IH P IH N\n"
     ]
    },
    {
     "name": "stderr",
     "output_type": "stream",
     "text": [
      "100%|██████████| 500/500 [01:17<00:00,  6.88it/s]\n"
     ]
    },
    {
     "name": "stdout",
     "output_type": "stream",
     "text": [
      "Epoch 49 average loss = 0.317581123317\n",
      "PRUNEDALE@ : P R AH N EH N D AH L\n",
      "POSNER@ : P OW Z N ER\n",
      "MISCONCEIVES@ :"
     ]
    },
    {
     "name": "stderr",
     "output_type": "stream",
     "text": [
      "\r",
      "  0%|          | 0/500 [00:00<?, ?it/s]"
     ]
    },
    {
     "name": "stdout",
     "output_type": "stream",
     "text": [
      " M IH S K AH N S IY V Z\n",
      "BURMANS@ : B ER M AH N Z\n",
      "ABABA@ : AE B AA B AH\n"
     ]
    },
    {
     "name": "stderr",
     "output_type": "stream",
     "text": [
      "100%|██████████| 500/500 [01:18<00:00,  6.35it/s]\n"
     ]
    },
    {
     "name": "stdout",
     "output_type": "stream",
     "text": [
      "Epoch 50 average loss = 0.302075089708\n",
      "SALEMA@ : S AH L EH M AH\n",
      "ISOLATIONIST@ :"
     ]
    },
    {
     "name": "stderr",
     "output_type": "stream",
     "text": [
      "\r",
      "  0%|          | 0/500 [00:00<?, ?it/s]"
     ]
    },
    {
     "name": "stdout",
     "output_type": "stream",
     "text": [
      " AY Z AH L AA SH AH N AH S T\n",
      "RICKER@ : R IH K ER\n",
      "EPOCHAL@ : EH P AH K AH L\n",
      "ROSEMARIE@ : R OW Z M EH R IY\n"
     ]
    },
    {
     "name": "stderr",
     "output_type": "stream",
     "text": [
      "100%|██████████| 500/500 [10:48<00:00,  7.57it/s]\n"
     ]
    },
    {
     "name": "stdout",
     "output_type": "stream",
     "text": [
      "Epoch 51 average loss = 0.295608515621\n",
      "DONG@ : D AO NG\n",
      "GELASIA@ : JH AH L EY S IY AH\n",
      "WASIELEWSKI@ :"
     ]
    },
    {
     "name": "stderr",
     "output_type": "stream",
     "text": [
      "\r",
      "  0%|          | 0/500 [00:00<?, ?it/s]"
     ]
    },
    {
     "name": "stdout",
     "output_type": "stream",
     "text": [
      " W IH Z IH L EH S K IY\n",
      "MIRAGES@ : M IH R AA JH IH Z\n",
      "DONAPRIA@ : D OW N AA P R IY AH\n"
     ]
    },
    {
     "name": "stderr",
     "output_type": "stream",
     "text": [
      "100%|██████████| 500/500 [01:08<00:00,  7.49it/s]\n"
     ]
    },
    {
     "name": "stdout",
     "output_type": "stream",
     "text": [
      "Epoch 52 average loss = 0.300899188301\n",
      "SHAKE@ : SH EY K\n",
      "WHOPPERS@ : W AA P ER Z\n",
      "BARTHOLOMEW@ :"
     ]
    },
    {
     "name": "stderr",
     "output_type": "stream",
     "text": [
      "\r",
      "  0%|          | 0/500 [00:00<?, ?it/s]"
     ]
    },
    {
     "name": "stdout",
     "output_type": "stream",
     "text": [
      " B AA R TH L AH M EH L OW\n",
      "SATIN@ : S AE T AH N\n",
      "MORAVEK@ : M ER AA V IH K\n"
     ]
    },
    {
     "name": "stderr",
     "output_type": "stream",
     "text": [
      "100%|██████████| 500/500 [01:11<00:00,  7.55it/s]\n"
     ]
    },
    {
     "name": "stdout",
     "output_type": "stream",
     "text": [
      "Epoch 53 average loss = 0.301607186366\n",
      "HAUPTMANN@ : HH AW S T M AH N\n",
      "PALLA@ : P AA L AH\n",
      "VOICEWORKS@ :"
     ]
    },
    {
     "name": "stderr",
     "output_type": "stream",
     "text": [
      "\r",
      "  0%|          | 0/500 [00:00<?, ?it/s]"
     ]
    },
    {
     "name": "stdout",
     "output_type": "stream",
     "text": [
      " V OY S W ER K S\n",
      "TECHNICIANS@ : T EH K N IH SH AH N Z\n",
      "DUKAKIS@ : D UW K AA K IH S\n"
     ]
    },
    {
     "name": "stderr",
     "output_type": "stream",
     "text": [
      "100%|██████████| 500/500 [01:12<00:00,  6.19it/s]\n"
     ]
    },
    {
     "name": "stdout",
     "output_type": "stream",
     "text": [
      "Epoch 54 average loss = 0.305996314698\n",
      "TURQUOISE@ : T ER K W EY S\n",
      "SALAMANDER@ : S AE L AH M AE N D ER\n",
      "FURLETT@ :"
     ]
    },
    {
     "name": "stderr",
     "output_type": "stream",
     "text": [
      "\r",
      "  0%|          | 0/500 [00:00<?, ?it/s]"
     ]
    },
    {
     "name": "stdout",
     "output_type": "stream",
     "text": [
      " F ER L IH T\n",
      "PROFOUNDLY@ : P R OW F AW N D L IY\n",
      "WRANGLER@ : R AE NG G L ER\n"
     ]
    },
    {
     "name": "stderr",
     "output_type": "stream",
     "text": [
      "100%|██████████| 500/500 [01:17<00:00,  6.83it/s]\n"
     ]
    },
    {
     "name": "stdout",
     "output_type": "stream",
     "text": [
      "Epoch 55 average loss = 0.300120091243\n",
      "BRIEFEST@ : B R IY F AH S T\n",
      "UPHELD@ : AH P HH EH L D\n",
      "EVOLVING@ :"
     ]
    },
    {
     "name": "stderr",
     "output_type": "stream",
     "text": [
      "\r",
      "  0%|          | 0/500 [00:00<?, ?it/s]"
     ]
    },
    {
     "name": "stdout",
     "output_type": "stream",
     "text": [
      " IY V OW L V IH NG\n",
      "DISTILLER@ : D IH S T IH L ER\n",
      "REXFORD@ : R EH K S F ER D\n"
     ]
    },
    {
     "name": "stderr",
     "output_type": "stream",
     "text": [
      "100%|██████████| 500/500 [01:11<00:00,  7.11it/s]\n"
     ]
    },
    {
     "name": "stdout",
     "output_type": "stream",
     "text": [
      "Epoch 56 average loss = 0.294179919385\n",
      "YEARLINGS@ : Y ER L IH NG Z\n",
      "LEGENDS@ : L EH JH AH N D Z\n",
      "CARNEGIE-MELLON@ :"
     ]
    },
    {
     "name": "stderr",
     "output_type": "stream",
     "text": [
      "\r",
      "  0%|          | 0/500 [00:00<?, ?it/s]"
     ]
    },
    {
     "name": "stdout",
     "output_type": "stream",
     "text": [
      " K AA R N AH G IY M Y AH N\n",
      "VASLEV@ : V AE S L IH V\n",
      "PRELIM@ : P R IY L IH M\n"
     ]
    },
    {
     "name": "stderr",
     "output_type": "stream",
     "text": [
      "100%|██████████| 500/500 [01:14<00:00,  7.42it/s]\n"
     ]
    },
    {
     "name": "stdout",
     "output_type": "stream",
     "text": [
      "Epoch 57 average loss = 0.290535109171\n",
      "UNSUCCESSFULLY@ : AH N S AH K S EH F L IH K\n",
      "CURFMAN@ : K ER F M AH N\n",
      "OVERSTAYED@ : OW V ER S T EY D\n",
      "LENNING@ : L EH N IH NG\n",
      "MACDONALD'S@ :"
     ]
    },
    {
     "name": "stderr",
     "output_type": "stream",
     "text": [
      "  0%|          | 1/500 [00:00<01:30,  5.54it/s]"
     ]
    },
    {
     "name": "stdout",
     "output_type": "stream",
     "text": [
      " M AH K D AA N AH L D Z\n"
     ]
    },
    {
     "name": "stderr",
     "output_type": "stream",
     "text": [
      "100%|██████████| 500/500 [01:11<00:00,  5.40it/s]\n"
     ]
    },
    {
     "name": "stdout",
     "output_type": "stream",
     "text": [
      "Epoch 58 average loss = 0.285303843769\n",
      "BOOTHMAN@ : B UW TH M AH N\n",
      "SCIENCES@ : S AY AH N S IH Z\n",
      "ENGLAND@ : EH NG G L AH N D\n",
      "CALL'S@ : K AO L Z\n",
      "REAGANISM@ :"
     ]
    },
    {
     "name": "stderr",
     "output_type": "stream",
     "text": [
      "  0%|          | 1/500 [00:00<01:28,  5.65it/s]"
     ]
    },
    {
     "name": "stdout",
     "output_type": "stream",
     "text": [
      " R IY G AH N IH Z AH M\n"
     ]
    },
    {
     "name": "stderr",
     "output_type": "stream",
     "text": [
      "100%|██████████| 500/500 [01:13<00:00,  6.35it/s]\n"
     ]
    },
    {
     "name": "stdout",
     "output_type": "stream",
     "text": [
      "Epoch 59 average loss = 0.288997708697\n",
      "MUGFORD@ : M AH G F ER D\n",
      "COASTAMERICA'S@ : K OW S T AA M IH R IH K AH Z\n",
      "CHELLIS@ : CH EH L IH S\n",
      "FOUNDATIONAL@ :"
     ]
    },
    {
     "name": "stderr",
     "output_type": "stream",
     "text": [
      "  0%|          | 1/500 [00:00<00:54,  9.08it/s]"
     ]
    },
    {
     "name": "stdout",
     "output_type": "stream",
     "text": [
      " F AW N D EY SH AH N AH L\n",
      "SEUSS@ : S UW Z\n"
     ]
    },
    {
     "name": "stderr",
     "output_type": "stream",
     "text": [
      "100%|██████████| 500/500 [01:13<00:00,  7.58it/s]\n"
     ]
    },
    {
     "name": "stdout",
     "output_type": "stream",
     "text": [
      "Epoch 60 average loss = 0.287127518531\n",
      "EZEKIEL@ : EH Z IH K IY L\n",
      "ZIPPERED@ : Z IH P ER D\n",
      "FIREPLACE@ : F AY R P L EY S\n",
      "HOST'S@ :"
     ]
    },
    {
     "name": "stderr",
     "output_type": "stream",
     "text": [
      "\r",
      "  0%|          | 0/500 [00:00<?, ?it/s]"
     ]
    },
    {
     "name": "stdout",
     "output_type": "stream",
     "text": [
      " HH OW S T S\n",
      "RECHARGEABLE@ : R IY K AA R D AH G AH L\n"
     ]
    },
    {
     "name": "stderr",
     "output_type": "stream",
     "text": [
      "100%|██████████| 500/500 [01:14<00:00,  7.25it/s]\n"
     ]
    },
    {
     "name": "stdout",
     "output_type": "stream",
     "text": [
      "Epoch 61 average loss = 0.28804871018\n",
      "CYRIL@ : S IH R AH L\n",
      "YAHOO@ : Y UW HH UW\n",
      "LEVENSTEIN@ : L EH V AH N S T IY N\n",
      "WITHEY@ :"
     ]
    },
    {
     "name": "stderr",
     "output_type": "stream",
     "text": [
      "\r",
      "  0%|          | 0/500 [00:00<?, ?it/s]"
     ]
    },
    {
     "name": "stdout",
     "output_type": "stream",
     "text": [
      " W IH DH IY\n",
      "VALUELESS@ : V AE L Y UW L AH S\n"
     ]
    },
    {
     "name": "stderr",
     "output_type": "stream",
     "text": [
      "100%|██████████| 500/500 [01:11<00:00,  7.20it/s]\n"
     ]
    },
    {
     "name": "stdout",
     "output_type": "stream",
     "text": [
      "Epoch 62 average loss = 0.283787412582\n",
      "TUMBLE@ : T AH M B AH L\n",
      "DEERING@ : D IY IH R IH NG\n",
      "PALEO@ : P AE L IY OW\n",
      "CROMBIE@ :"
     ]
    },
    {
     "name": "stderr",
     "output_type": "stream",
     "text": [
      "\r",
      "  0%|          | 0/500 [00:00<?, ?it/s]"
     ]
    },
    {
     "name": "stdout",
     "output_type": "stream",
     "text": [
      " K R AA M B IY\n",
      "NEWMARKET@ : N UW M AA R K AH T\n"
     ]
    },
    {
     "name": "stderr",
     "output_type": "stream",
     "text": [
      "100%|██████████| 500/500 [01:12<00:00,  6.82it/s]\n"
     ]
    },
    {
     "name": "stdout",
     "output_type": "stream",
     "text": [
      "Epoch 63 average loss = 0.275332091687\n",
      "STUDIO@ : S T UW D IY OW\n",
      "CLENCHER@ : K L EH N CH ER\n",
      "MCGRAIL@ : M AH G R EY L\n",
      "BEAM@ :"
     ]
    },
    {
     "name": "stderr",
     "output_type": "stream",
     "text": [
      "\r",
      "  0%|          | 0/500 [00:00<?, ?it/s]"
     ]
    },
    {
     "name": "stdout",
     "output_type": "stream",
     "text": [
      " B IY M\n",
      "KASINGA'S@ : K AH S IH NG G AH Z\n"
     ]
    },
    {
     "name": "stderr",
     "output_type": "stream",
     "text": [
      "100%|██████████| 500/500 [01:11<00:00,  6.48it/s]\n"
     ]
    },
    {
     "name": "stdout",
     "output_type": "stream",
     "text": [
      "Epoch 64 average loss = 0.279376495017\n",
      "BERMUDEZ@ : B ER M Y UW D IY Z\n",
      "ASHUR@ : AE SH ER\n",
      "LARAMEE@ :"
     ]
    },
    {
     "name": "stderr",
     "output_type": "stream",
     "text": [
      "\r",
      "  0%|          | 0/500 [00:00<?, ?it/s]"
     ]
    },
    {
     "name": "stdout",
     "output_type": "stream",
     "text": [
      " L ER AA M IY\n",
      "DEFIANTLY@ : D IH F AY AH N T L IY\n",
      "RAGE@ : R EY JH\n"
     ]
    },
    {
     "name": "stderr",
     "output_type": "stream",
     "text": [
      "100%|██████████| 500/500 [01:13<00:00,  5.95it/s]\n"
     ]
    },
    {
     "name": "stdout",
     "output_type": "stream",
     "text": [
      "Epoch 65 average loss = 0.289224858362\n",
      "PEACEMAKERS@ : P IY S M EY K ER Z\n",
      "RECOGNIZING@ : R IY K AH N JH AY Z IH NG\n",
      "BERRINGER@ : B EH R IH NG ER\n",
      "LIVELIHOODS@ :"
     ]
    },
    {
     "name": "stderr",
     "output_type": "stream",
     "text": [
      "\r",
      "  0%|          | 0/500 [00:00<?, ?it/s]"
     ]
    },
    {
     "name": "stdout",
     "output_type": "stream",
     "text": [
      " L AY V L AY HH UH D Z\n",
      "MUSIDORA@ : M UW S IY D AO R AH\n"
     ]
    },
    {
     "name": "stderr",
     "output_type": "stream",
     "text": [
      "100%|██████████| 500/500 [01:11<00:00,  5.33it/s]\n"
     ]
    },
    {
     "name": "stdout",
     "output_type": "stream",
     "text": [
      "Epoch 66 average loss = 0.283921765955\n",
      "ELEVATING@ : EH L AH V EY T IH NG\n",
      "FILIPSKI@ : F IH L IH P S K IY\n",
      "MAINFRAMES@ : M EY N F R EY M Z\n",
      "STOCKING@ : S T AA K IH NG\n",
      "CASTRONOVA@ :"
     ]
    },
    {
     "name": "stderr",
     "output_type": "stream",
     "text": [
      "  0%|          | 1/500 [00:00<01:06,  7.53it/s]"
     ]
    },
    {
     "name": "stdout",
     "output_type": "stream",
     "text": [
      " K AE S T R AA N OW V AH\n"
     ]
    },
    {
     "name": "stderr",
     "output_type": "stream",
     "text": [
      "100%|██████████| 500/500 [01:15<00:00,  7.99it/s]\n"
     ]
    },
    {
     "name": "stdout",
     "output_type": "stream",
     "text": [
      "Epoch 67 average loss = 0.281914813533\n",
      "OUST@ : AW S T\n",
      "CELIA@ : CH EH L IY AH\n",
      "PRESCHOOLER@ : P R IY SH UW L ER\n",
      "HORRENDOUSLY@ :"
     ]
    },
    {
     "name": "stderr",
     "output_type": "stream",
     "text": [
      "\r",
      "  0%|          | 0/500 [00:00<?, ?it/s]"
     ]
    },
    {
     "name": "stdout",
     "output_type": "stream",
     "text": [
      " HH AO R IH N D UW AH L IY\n",
      "WEISGERBER@ : W AY S G ER B ER\n"
     ]
    },
    {
     "name": "stderr",
     "output_type": "stream",
     "text": [
      "100%|██████████| 500/500 [01:11<00:00,  7.38it/s]\n"
     ]
    },
    {
     "name": "stdout",
     "output_type": "stream",
     "text": [
      "Epoch 68 average loss = 0.280580399977\n",
      "LION'S@ : L AY AH N Z\n",
      "ROHLEDER@ : R OW L IH D ER\n",
      "GOODY'S@ : G UH D IY Z\n",
      "GARUDA@ :"
     ]
    },
    {
     "name": "stderr",
     "output_type": "stream",
     "text": [
      "  0%|          | 1/500 [00:00<00:57,  8.73it/s]"
     ]
    },
    {
     "name": "stdout",
     "output_type": "stream",
     "text": [
      " G AA R UW D AH\n",
      "ALTHEA@ : AA L TH IY AH\n"
     ]
    },
    {
     "name": "stderr",
     "output_type": "stream",
     "text": [
      "100%|██████████| 500/500 [01:11<00:00,  5.96it/s]\n"
     ]
    },
    {
     "name": "stdout",
     "output_type": "stream",
     "text": [
      "Epoch 69 average loss = 0.276969778035\n",
      "EXTIRPATING@ : EH K S T R AH P T IH NG\n",
      "ANYWAY@ : AE N W EY\n",
      "BARRYMORE@ : B AA R IH M AO R\n",
      "STAMPING@ : S T AE M P IH NG\n",
      "BECKON@ :"
     ]
    },
    {
     "name": "stderr",
     "output_type": "stream",
     "text": [
      "  0%|          | 1/500 [00:00<01:02,  8.05it/s]"
     ]
    },
    {
     "name": "stdout",
     "output_type": "stream",
     "text": [
      " B EH K AA N\n"
     ]
    },
    {
     "name": "stderr",
     "output_type": "stream",
     "text": [
      "100%|██████████| 500/500 [01:11<00:00,  6.31it/s]\n"
     ]
    },
    {
     "name": "stdout",
     "output_type": "stream",
     "text": [
      "Epoch 70 average loss = 0.270715494252\n",
      "STATED@ : S T EY T IH D\n",
      "TANKARD@ : T AE NG K ER D\n",
      "PRANK@ : P R AE NG K\n",
      "NESTED@ :"
     ]
    },
    {
     "name": "stderr",
     "output_type": "stream",
     "text": [
      "  0%|          | 1/500 [00:00<01:11,  6.99it/s]"
     ]
    },
    {
     "name": "stdout",
     "output_type": "stream",
     "text": [
      " N EH S T IH D\n",
      "KMIEC@ : K IY M IY\n"
     ]
    },
    {
     "name": "stderr",
     "output_type": "stream",
     "text": [
      "100%|██████████| 500/500 [01:12<00:00,  8.07it/s]\n"
     ]
    },
    {
     "name": "stdout",
     "output_type": "stream",
     "text": [
      "Epoch 71 average loss = 0.265665310511\n",
      "GRIMMEST@ : G R IH M AH S T\n",
      "POPPEA@ : P AA P IY AH\n",
      "HUGHY@ : HH Y UW IY\n",
      "DUBROVNIK@ :"
     ]
    },
    {
     "name": "stderr",
     "output_type": "stream",
     "text": [
      "  0%|          | 1/500 [00:00<01:15,  6.59it/s]"
     ]
    },
    {
     "name": "stdout",
     "output_type": "stream",
     "text": [
      " D UW B R AA V IH N S\n",
      "LUHR@ : L ER\n"
     ]
    },
    {
     "name": "stderr",
     "output_type": "stream",
     "text": [
      "100%|██████████| 500/500 [01:13<00:00,  7.75it/s]\n"
     ]
    },
    {
     "name": "stdout",
     "output_type": "stream",
     "text": [
      "Epoch 72 average loss = 0.276116964468\n",
      "AMERICA'S@ : AH M EH R IH K AH Z\n",
      "SALEEBY@ : S AE L AH B IY\n",
      "SCHNEBERGER@ :"
     ]
    },
    {
     "name": "stderr",
     "output_type": "stream",
     "text": [
      "\r",
      "  0%|          | 0/500 [00:00<?, ?it/s]"
     ]
    },
    {
     "name": "stdout",
     "output_type": "stream",
     "text": [
      " SH N IH B ER G ER\n",
      "ILLEGALS@ : IH L IH G AH L Z\n",
      "FEUD@ : F Y UW D\n"
     ]
    },
    {
     "name": "stderr",
     "output_type": "stream",
     "text": [
      "100%|██████████| 500/500 [01:10<00:00,  7.80it/s]\n"
     ]
    },
    {
     "name": "stdout",
     "output_type": "stream",
     "text": [
      "Epoch 73 average loss = 0.265763744328\n",
      "DUBCEK@ : D UW B K EH K\n",
      "JUNKER@ : JH AH NG K ER\n",
      "STIGMATA@ : S T IH G M AA T AH\n",
      "GORGONE@ :"
     ]
    },
    {
     "name": "stderr",
     "output_type": "stream",
     "text": [
      "  0%|          | 1/500 [00:00<00:58,  8.58it/s]"
     ]
    },
    {
     "name": "stdout",
     "output_type": "stream",
     "text": [
      " G AO R G OW N\n",
      "OLYMPIA@ : OW L IH M P IY AH\n"
     ]
    },
    {
     "name": "stderr",
     "output_type": "stream",
     "text": [
      "100%|██████████| 500/500 [01:08<00:00,  7.37it/s]\n"
     ]
    },
    {
     "name": "stdout",
     "output_type": "stream",
     "text": [
      "Epoch 74 average loss = 0.256874876554\n",
      "BRIGHTLY@ : B R AY T L IY\n",
      "DELFAVERO@ : D EH L F EH V ER OW\n",
      "WINNETT@ : W IH N IH T\n",
      "TRANSPARENTLY@ :"
     ]
    },
    {
     "name": "stderr",
     "output_type": "stream",
     "text": [
      "  0%|          | 1/500 [00:00<00:59,  8.39it/s]"
     ]
    },
    {
     "name": "stdout",
     "output_type": "stream",
     "text": [
      " T R AE N S P EH T R AH N T L IY\n",
      "MULLOY@ : M AH L OY\n"
     ]
    },
    {
     "name": "stderr",
     "output_type": "stream",
     "text": [
      "100%|██████████| 500/500 [01:14<00:00,  6.99it/s]\n"
     ]
    },
    {
     "name": "stdout",
     "output_type": "stream",
     "text": [
      "Epoch 75 average loss = 0.2616760703\n",
      "SEGLER@ : S EH G L ER\n",
      "MIDCENTURY@ : M IH D S EH N CH ER IY\n",
      "SCHRONCE@ :"
     ]
    },
    {
     "name": "stderr",
     "output_type": "stream",
     "text": [
      "\r",
      "  0%|          | 0/500 [00:00<?, ?it/s]"
     ]
    },
    {
     "name": "stdout",
     "output_type": "stream",
     "text": [
      " SH R AA N S\n",
      "TRESTER@ : T R EH S T ER\n",
      "HARLEY'S@ : HH AA R L IY Z\n"
     ]
    },
    {
     "name": "stderr",
     "output_type": "stream",
     "text": [
      "100%|██████████| 500/500 [01:13<00:00,  7.54it/s]\n"
     ]
    },
    {
     "name": "stdout",
     "output_type": "stream",
     "text": [
      "Epoch 76 average loss = 0.26248513388\n",
      "MARLOW@ : M AA R L OW\n",
      "REPRESENTATIVE@ : R EH P R AH Z EH N T AH T IH V\n",
      "NUNNERY@ : N AH N ER IY\n",
      "INJUNCTIVE@ : IH N JH AH N T IH V\n",
      "TALKIN@ :"
     ]
    },
    {
     "name": "stderr",
     "output_type": "stream",
     "text": [
      "  0%|          | 1/500 [00:00<01:19,  6.27it/s]"
     ]
    },
    {
     "name": "stdout",
     "output_type": "stream",
     "text": [
      " T AE L K IH N\n"
     ]
    },
    {
     "name": "stderr",
     "output_type": "stream",
     "text": [
      "100%|██████████| 500/500 [01:17<00:00,  7.83it/s]\n"
     ]
    },
    {
     "name": "stdout",
     "output_type": "stream",
     "text": [
      "Epoch 77 average loss = 0.265154319964\n",
      "ARMORIES@ : AA R M AO R IY Z\n",
      "CUSIANA@ :"
     ]
    },
    {
     "name": "stderr",
     "output_type": "stream",
     "text": [
      "\r",
      "  0%|          | 0/500 [00:00<?, ?it/s]"
     ]
    },
    {
     "name": "stdout",
     "output_type": "stream",
     "text": [
      " K Y UW S IY AA N AH\n",
      "DORSEY@ : D AO R S IY\n",
      "BLONDE@ : B L AA N D\n",
      "WARRING@ : W AO R IH NG\n"
     ]
    },
    {
     "name": "stderr",
     "output_type": "stream",
     "text": [
      "100%|██████████| 500/500 [01:13<00:00,  7.70it/s]\n"
     ]
    },
    {
     "name": "stdout",
     "output_type": "stream",
     "text": [
      "Epoch 78 average loss = 0.262841415715\n",
      "SENIOR@ : S IY N Y ER\n",
      "DISCOVERIES@ : D IH S K AH V EH R IY Z\n",
      "ZENA@ : Z IY N AH\n",
      "HAILS@ :"
     ]
    },
    {
     "name": "stderr",
     "output_type": "stream",
     "text": [
      "\r",
      "  0%|          | 0/500 [00:00<?, ?it/s]"
     ]
    },
    {
     "name": "stdout",
     "output_type": "stream",
     "text": [
      " HH EY L Z\n",
      "SHAWLER@ : SH AO L ER\n"
     ]
    },
    {
     "name": "stderr",
     "output_type": "stream",
     "text": [
      "100%|██████████| 500/500 [01:13<00:00,  6.18it/s]\n"
     ]
    },
    {
     "name": "stdout",
     "output_type": "stream",
     "text": [
      "Epoch 79 average loss = 0.256985732393\n",
      "GETTER@ : G EH T ER\n",
      "CAROLYNE@ : K EH R AH L AY N\n",
      "HALLET@ : HH AE L IH T\n",
      "HANBACK@ : HH AE N B AE K\n",
      "AMPLICONS@ :"
     ]
    },
    {
     "name": "stderr",
     "output_type": "stream",
     "text": [
      "  0%|          | 1/500 [00:00<01:01,  8.14it/s]"
     ]
    },
    {
     "name": "stdout",
     "output_type": "stream",
     "text": [
      " AE M P L IH K AH N Z\n"
     ]
    },
    {
     "name": "stderr",
     "output_type": "stream",
     "text": [
      "100%|██████████| 500/500 [01:13<00:00,  5.62it/s]\n"
     ]
    },
    {
     "name": "stdout",
     "output_type": "stream",
     "text": [
      "Epoch 80 average loss = 0.257872068802\n",
      "PENICILLIN@ : P EH N IH S IH L AH N\n",
      "PLUE@ : P L UW\n",
      "FLOOD@ : F L AH D\n",
      "MENCHACA@ :"
     ]
    },
    {
     "name": "stderr",
     "output_type": "stream",
     "text": [
      "\r",
      "  0%|          | 0/500 [00:00<?, ?it/s]"
     ]
    },
    {
     "name": "stdout",
     "output_type": "stream",
     "text": [
      " M EH N CH AA K AH\n",
      "DOCKED@ : D AA K T\n"
     ]
    },
    {
     "name": "stderr",
     "output_type": "stream",
     "text": [
      "100%|██████████| 500/500 [01:13<00:00,  8.17it/s]\n"
     ]
    },
    {
     "name": "stdout",
     "output_type": "stream",
     "text": [
      "Epoch 81 average loss = 0.257216483759\n",
      "GERMANN@ : JH ER M AH N\n",
      "AEROSMITH'S@ : EH R OW S M IH TH S\n",
      "BARLOON@ : B AA R L UW N\n",
      "YARD'S@ :"
     ]
    },
    {
     "name": "stderr",
     "output_type": "stream",
     "text": [
      "\r",
      "  0%|          | 0/500 [00:00<?, ?it/s]"
     ]
    },
    {
     "name": "stdout",
     "output_type": "stream",
     "text": [
      " Y AA R D Z\n",
      "UNDERPERFORM@ : AH N D ER P ER F AO R M\n"
     ]
    },
    {
     "name": "stderr",
     "output_type": "stream",
     "text": [
      "100%|██████████| 500/500 [01:14<00:00,  6.60it/s]\n"
     ]
    },
    {
     "name": "stdout",
     "output_type": "stream",
     "text": [
      "Epoch 82 average loss = 0.250964413849\n",
      "USAGES@ : Y UW Z EY JH IH Z\n",
      "BEITEL@ : B AY T AH L\n",
      "CLYVE@ : K L AY V\n",
      "SELINAS@ :"
     ]
    },
    {
     "name": "stderr",
     "output_type": "stream",
     "text": [
      "  0%|          | 1/500 [00:00<01:00,  8.29it/s]"
     ]
    },
    {
     "name": "stdout",
     "output_type": "stream",
     "text": [
      " S EH L IH N AH S\n",
      "GAEBEL@ : G IY B AH L\n"
     ]
    },
    {
     "name": "stderr",
     "output_type": "stream",
     "text": [
      "100%|██████████| 500/500 [01:13<00:00,  7.45it/s]\n"
     ]
    },
    {
     "name": "stdout",
     "output_type": "stream",
     "text": [
      "Epoch 83 average loss = 0.250518244056\n",
      "BRAKING@ : B R EY K IH NG\n",
      "SASHES@ : S AE SH IH Z\n",
      "FREVERT@ : F R EH V ER T"
     ]
    },
    {
     "name": "stderr",
     "output_type": "stream",
     "text": [
      "\r",
      "  0%|          | 0/500 [00:00<?, ?it/s]"
     ]
    },
    {
     "name": "stdout",
     "output_type": "stream",
     "text": [
      "\n",
      "OARSMAN@ : AO R S M AH N\n",
      "O'HAGAN@ : OW HH EY G AH N\n"
     ]
    },
    {
     "name": "stderr",
     "output_type": "stream",
     "text": [
      "100%|██████████| 500/500 [01:09<00:00,  6.47it/s]\n"
     ]
    },
    {
     "name": "stdout",
     "output_type": "stream",
     "text": [
      "Epoch 84 average loss = 0.249471373616\n",
      "HOLLOMON@ : HH AA L AH M AA N\n",
      "BODI@ : B OW D IY\n",
      "SCHAMEL@ : SH AE M AH L\n",
      "SAPHIRA@ :"
     ]
    },
    {
     "name": "stderr",
     "output_type": "stream",
     "text": [
      "\r",
      "  0%|          | 0/500 [00:00<?, ?it/s]"
     ]
    },
    {
     "name": "stdout",
     "output_type": "stream",
     "text": [
      " S AH F IH R AH\n",
      "LOFLIN@ : L AA F L IH N\n"
     ]
    },
    {
     "name": "stderr",
     "output_type": "stream",
     "text": [
      "100%|██████████| 500/500 [01:09<00:00,  7.95it/s]\n"
     ]
    },
    {
     "name": "stdout",
     "output_type": "stream",
     "text": [
      "Epoch 85 average loss = 0.25488150906\n",
      "BUNCHE@ : B AH N CH\n",
      "FLYTRAP@ : F L AY T R AE P\n",
      "GARAFOLA@ :"
     ]
    },
    {
     "name": "stderr",
     "output_type": "stream",
     "text": [
      "\r",
      "  0%|          | 0/500 [00:00<?, ?it/s]"
     ]
    },
    {
     "name": "stdout",
     "output_type": "stream",
     "text": [
      " G AE R AH F OW L AH\n",
      "CHALET@ : SH AE L IH T\n",
      "ACKNOWLEDGE@ : AE K N OW L IH JH\n"
     ]
    },
    {
     "name": "stderr",
     "output_type": "stream",
     "text": [
      "100%|██████████| 500/500 [01:10<00:00,  7.29it/s]\n"
     ]
    },
    {
     "name": "stdout",
     "output_type": "stream",
     "text": [
      "Epoch 86 average loss = 0.249983579873\n",
      "SUHM@ : S AH M\n",
      "FAIRGROUND@ : F EH R G R AW N D\n",
      "RECOVERABLE@ :"
     ]
    },
    {
     "name": "stderr",
     "output_type": "stream",
     "text": [
      "\r",
      "  0%|          | 0/500 [00:00<?, ?it/s]"
     ]
    },
    {
     "name": "stdout",
     "output_type": "stream",
     "text": [
      " R IH K AH V ER AH B AH L\n",
      "MANEUVERABLE@ : M AH N UW V ER AH B AH L\n",
      "SWAP@ : S W AA P\n"
     ]
    },
    {
     "name": "stderr",
     "output_type": "stream",
     "text": [
      "100%|██████████| 500/500 [01:17<00:00,  6.66it/s]\n"
     ]
    },
    {
     "name": "stdout",
     "output_type": "stream",
     "text": [
      "Epoch 87 average loss = 0.254636187308\n",
      "WORSENED@ : W ER S AH N D\n",
      "NEWGATEWAY@ : N UW G EY SH W EY\n",
      "FERRELL@ :"
     ]
    },
    {
     "name": "stderr",
     "output_type": "stream",
     "text": [
      "\r",
      "  0%|          | 0/500 [00:00<?, ?it/s]"
     ]
    },
    {
     "name": "stdout",
     "output_type": "stream",
     "text": [
      " F EH R AH L\n",
      "HOLICK@ : HH AA L IH K\n",
      "APPLICATORS@ : AE P L AH K EY T ER Z\n"
     ]
    },
    {
     "name": "stderr",
     "output_type": "stream",
     "text": [
      "100%|██████████| 500/500 [01:14<00:00,  5.79it/s]\n"
     ]
    },
    {
     "name": "stdout",
     "output_type": "stream",
     "text": [
      "Epoch 88 average loss = 0.25079064946\n",
      "RAUNCHY@ : R AO N CH IY\n",
      "MURAVICH@ : M ER AA V IH CH\n",
      "UNEASILY@ :"
     ]
    },
    {
     "name": "stderr",
     "output_type": "stream",
     "text": [
      "\r",
      "  0%|          | 0/500 [00:00<?, ?it/s]"
     ]
    },
    {
     "name": "stdout",
     "output_type": "stream",
     "text": [
      " AH N IY Z L IY\n",
      "GUILD'S@ : G IH L D Z\n",
      "PRETENDER@ : P R IH T EH N D ER\n"
     ]
    },
    {
     "name": "stderr",
     "output_type": "stream",
     "text": [
      "100%|██████████| 500/500 [01:15<00:00,  6.67it/s]\n"
     ]
    },
    {
     "name": "stdout",
     "output_type": "stream",
     "text": [
      "Epoch 89 average loss = 0.251593202713\n",
      "KLUS@ : K L AH S\n",
      "BEHELER@ : B EH HH IH L ER\n",
      "OSTLING@ :"
     ]
    },
    {
     "name": "stderr",
     "output_type": "stream",
     "text": [
      "\r",
      "  0%|          | 0/500 [00:00<?, ?it/s]"
     ]
    },
    {
     "name": "stdout",
     "output_type": "stream",
     "text": [
      " AA S L IH NG\n",
      "REFRESH@ : R IH F R EH SH\n",
      "COONAN@ : K UW AA N\n"
     ]
    },
    {
     "name": "stderr",
     "output_type": "stream",
     "text": [
      "100%|██████████| 500/500 [01:12<00:00,  6.76it/s]\n"
     ]
    },
    {
     "name": "stdout",
     "output_type": "stream",
     "text": [
      "Epoch 90 average loss = 0.246506598994\n",
      "ROLLEY@ : R AA L IY\n",
      "FIORINA@ : F IY AO R IY N AH\n",
      "LAMETA@ : L AH M EY T AH\n",
      "BUFFERIN@ : B AH F ER IH N\n",
      "DEWINTER@ :"
     ]
    },
    {
     "name": "stderr",
     "output_type": "stream",
     "text": [
      "  0%|          | 1/500 [00:00<00:55,  9.02it/s]"
     ]
    },
    {
     "name": "stdout",
     "output_type": "stream",
     "text": [
      " D UW IH N T ER\n"
     ]
    },
    {
     "name": "stderr",
     "output_type": "stream",
     "text": [
      "100%|██████████| 500/500 [01:10<00:00,  6.56it/s]\n"
     ]
    },
    {
     "name": "stdout",
     "output_type": "stream",
     "text": [
      "Epoch 91 average loss = 0.238303082314\n",
      "FACILITATE@ : F AH S IH L AH T EY T\n",
      "SWEERS@ : S W IH R Z\n",
      "LONA@ : L OW N AH\n",
      "BREASTPLATE@ :"
     ]
    },
    {
     "name": "stderr",
     "output_type": "stream",
     "text": [
      "  0%|          | 1/500 [00:00<00:52,  9.43it/s]"
     ]
    },
    {
     "name": "stdout",
     "output_type": "stream",
     "text": [
      " B R EH S P L AH T\n",
      "KATES@ : K EY T S\n"
     ]
    },
    {
     "name": "stderr",
     "output_type": "stream",
     "text": [
      "100%|██████████| 500/500 [01:13<00:00,  7.16it/s]\n"
     ]
    },
    {
     "name": "stdout",
     "output_type": "stream",
     "text": [
      "Epoch 92 average loss = 0.258278775897\n",
      "MANDRAKE@ : M AE N D R EY K\n",
      "BACKBITING@ : B AE K B AY T IH NG\n",
      "VISITORS'@ :"
     ]
    },
    {
     "name": "stderr",
     "output_type": "stream",
     "text": [
      "\r",
      "  0%|          | 0/500 [00:00<?, ?it/s]"
     ]
    },
    {
     "name": "stdout",
     "output_type": "stream",
     "text": [
      " V IH Z IH T ER Z\n",
      "ILLUSIONIST'S@ : IH L UW ZH AH N AH S T S\n",
      "PETRI@ : P EH T R IY\n"
     ]
    },
    {
     "name": "stderr",
     "output_type": "stream",
     "text": [
      "100%|██████████| 500/500 [01:12<00:00,  6.99it/s]\n"
     ]
    },
    {
     "name": "stdout",
     "output_type": "stream",
     "text": [
      "Epoch 93 average loss = 0.247166348545\n",
      "REDEMPTIVE@ : R IY D EH M P T IH V\n",
      "GIORGI@ : JH AO R JH IY\n",
      "CASCADED@ :"
     ]
    },
    {
     "name": "stderr",
     "output_type": "stream",
     "text": [
      "\r",
      "  0%|          | 0/500 [00:00<?, ?it/s]"
     ]
    },
    {
     "name": "stdout",
     "output_type": "stream",
     "text": [
      " K AE S K AH D IH D\n",
      "PAGERS@ : P EY JH ER Z\n",
      "SKIPPING@ : S K IH P IH NG\n"
     ]
    },
    {
     "name": "stderr",
     "output_type": "stream",
     "text": [
      "100%|██████████| 500/500 [01:13<00:00,  6.22it/s]\n"
     ]
    },
    {
     "name": "stdout",
     "output_type": "stream",
     "text": [
      "Epoch 94 average loss = 0.235321529014\n",
      "BRUMETT@ : B R UW M IH T\n",
      "LIBERALIZED@ : L IH B ER AH L AY Z D\n",
      "EYESORE@ : AY S AO R\n",
      "HOFFENBERG@ : HH AO F AH N B ER G\n",
      "BIGFOOT@ :"
     ]
    },
    {
     "name": "stderr",
     "output_type": "stream",
     "text": [
      "  0%|          | 1/500 [00:00<01:37,  5.13it/s]"
     ]
    },
    {
     "name": "stdout",
     "output_type": "stream",
     "text": [
      " B IH G F UH T\n"
     ]
    },
    {
     "name": "stderr",
     "output_type": "stream",
     "text": [
      "100%|██████████| 500/500 [01:11<00:00,  7.21it/s]\n"
     ]
    },
    {
     "name": "stdout",
     "output_type": "stream",
     "text": [
      "Epoch 95 average loss = 0.239411711293\n",
      "CHAPDELAINE@ : SH AE P T IH L EY N\n",
      "UNDENIABLY@ : AH N D IY N Y AH B L IY\n",
      "STARGATE@ :"
     ]
    },
    {
     "name": "stderr",
     "output_type": "stream",
     "text": [
      "\r",
      "  0%|          | 0/500 [00:00<?, ?it/s]"
     ]
    },
    {
     "name": "stdout",
     "output_type": "stream",
     "text": [
      " S T AA R G EY T\n",
      "SHEEK@ : SH IY K\n",
      "VALOIS@ : V AH L OY Z\n"
     ]
    },
    {
     "name": "stderr",
     "output_type": "stream",
     "text": [
      "100%|██████████| 500/500 [01:12<00:00,  6.49it/s]\n"
     ]
    },
    {
     "name": "stdout",
     "output_type": "stream",
     "text": [
      "Epoch 96 average loss = 0.237825497285\n",
      "PERMISSIBLE@ : P ER M IH S AH B AH L\n",
      "PRIVILEGE@ : P R IH V L IH JH\n",
      "PTOLEMY@ : T OW L AH M IY\n",
      "NONRECURRING@ : N AA N R IY K ER IH NG\n",
      "LACIVITA@ :"
     ]
    },
    {
     "name": "stderr",
     "output_type": "stream",
     "text": [
      "  0%|          | 1/500 [00:00<01:14,  6.71it/s]"
     ]
    },
    {
     "name": "stdout",
     "output_type": "stream",
     "text": [
      " L AA CH IY V IY T AH\n"
     ]
    },
    {
     "name": "stderr",
     "output_type": "stream",
     "text": [
      "100%|██████████| 500/500 [01:14<00:00,  6.71it/s]\n"
     ]
    },
    {
     "name": "stdout",
     "output_type": "stream",
     "text": [
      "Epoch 97 average loss = 0.246788730379\n",
      "BULEMIC@ : B Y UW L IH M IH K\n",
      "VEES@ : V IY Z\n",
      "PROJECTING@ :"
     ]
    },
    {
     "name": "stderr",
     "output_type": "stream",
     "text": [
      "\r",
      "  0%|          | 0/500 [00:00<?, ?it/s]"
     ]
    },
    {
     "name": "stdout",
     "output_type": "stream",
     "text": [
      " P R AH JH EH K T IH NG\n",
      "REJECTED@ : R IY JH EH K T AH D\n",
      "SONDAG@ : S AA N D AE G\n"
     ]
    },
    {
     "name": "stderr",
     "output_type": "stream",
     "text": [
      "100%|██████████| 500/500 [01:12<00:00,  7.14it/s]\n"
     ]
    },
    {
     "name": "stdout",
     "output_type": "stream",
     "text": [
      "Epoch 98 average loss = 0.240498744685\n",
      "GIORGIO@ : JH AO R JH OW\n",
      "KRIEGEL@ : K R IY G AH L\n",
      "SALINGERS@ :"
     ]
    },
    {
     "name": "stderr",
     "output_type": "stream",
     "text": [
      "\r",
      "  0%|          | 0/500 [00:00<?, ?it/s]"
     ]
    },
    {
     "name": "stdout",
     "output_type": "stream",
     "text": [
      " S AE L IH NG ER Z\n",
      "JURA@ : JH UH R AH\n",
      "FENDRICK@ : F EH N D R IH K\n"
     ]
    },
    {
     "name": "stderr",
     "output_type": "stream",
     "text": [
      "100%|██████████| 500/500 [01:15<00:00,  5.04it/s]\n"
     ]
    },
    {
     "name": "stdout",
     "output_type": "stream",
     "text": [
      "Epoch 99 average loss = 0.241516589257\n",
      "MINICOMPUTERS@ : M IH N IH K AH M P Y UW T ER Z\n",
      "POSTERS@ : P OW S T ER Z\n",
      "LANTING'S@ : L AE N T IH NG Z\n",
      "FRATANGELO@ : F R AA T AA N G OW L OW\n",
      "LEONARDI@ : L IY AH N AO R D IY\n"
     ]
    }
   ],
   "source": [
    "\n",
    "\n",
    "print(\"Training ...\")\n",
    "\n",
    "\n",
    "#total N iterations\n",
    "n_epochs=100\n",
    "\n",
    "# how many minibatches are there in the epoch \n",
    "batches_per_epoch = 500\n",
    "\n",
    "#how many training sequences are processed in a single function call\n",
    "batch_size=10\n",
    "\n",
    "\n",
    "for epoch in range(n_epochs):\n",
    "\n",
    "\n",
    "    avg_cost = 0;\n",
    "    \n",
    "    for _ in tqdm(range(batches_per_epoch)):\n",
    "        \n",
    "        x,y = sample_batch(words,transcripts,batch_size)\n",
    "        avg_cost += train(x, y).mean()\n",
    "        \n",
    "        \n",
    "    \n",
    "        \n",
    "    print(\"Epoch {} average loss = {}\".format(epoch, avg_cost / batches_per_epoch))\n",
    "    for i in range(5):\n",
    "        ind = np.random.randint(len(words))\n",
    "        print words[ind],':', ' '.join(generate_transcript(words[ind],sample=False)[1:-1])\n",
    "\n"
   ]
  },
  {
   "cell_type": "code",
   "execution_count": null,
   "metadata": {
    "collapsed": true
   },
   "outputs": [],
   "source": []
  },
  {
   "cell_type": "markdown",
   "metadata": {},
   "source": [
    "# And now,\n",
    "* try lstm/gru\n",
    "* try several layers\n",
    "* try mtg cards\n",
    "* try your own dataset of any kind"
   ]
  },
  {
   "cell_type": "code",
   "execution_count": null,
   "metadata": {
    "collapsed": true
   },
   "outputs": [],
   "source": []
  }
 ],
 "metadata": {
  "kernelspec": {
   "display_name": "Python [Root]",
   "language": "python",
   "name": "Python [Root]"
  },
  "language_info": {
   "codemirror_mode": {
    "name": "ipython",
    "version": 2
   },
   "file_extension": ".py",
   "mimetype": "text/x-python",
   "name": "python",
   "nbconvert_exporter": "python",
   "pygments_lexer": "ipython2",
   "version": "2.7.12"
  }
 },
 "nbformat": 4,
 "nbformat_minor": 0
}
