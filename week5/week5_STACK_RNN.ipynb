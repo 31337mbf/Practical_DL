{
 "cells": [
  {
   "cell_type": "code",
   "execution_count": 1,
   "metadata": {
    "collapsed": false
   },
   "outputs": [],
   "source": [
    "import numpy as np\n",
    "from matplotlib import pyplot as plt\n",
    "%matplotlib inline\n",
    "\n",
    "\n",
    "#theano imports\n",
    "import lasagne\n",
    "import theano\n",
    "import theano.tensor as T\n",
    "import sys\n",
    "sys.setrecursionlimit(100000)\n",
    "floatX = theano.config.floatX\n",
    "\n"
   ]
  },
  {
   "cell_type": "code",
   "execution_count": 2,
   "metadata": {
    "collapsed": false
   },
   "outputs": [],
   "source": [
    "%load_ext autoreload\n",
    "%autoreload 2"
   ]
  },
  {
   "cell_type": "markdown",
   "metadata": {},
   "source": [
    "# Stack-augmented RNN\n",
    "![caption](https://usercontent1.hubstatic.com/6172838_f260.jpg)\n",
    "\n"
   ]
  },
  {
   "cell_type": "markdown",
   "metadata": {},
   "source": [
    "This notebook reproduces experiment from article http://arxiv.org/abs/1503.01007"
   ]
  },
  {
   "cell_type": "markdown",
   "metadata": {},
   "source": [
    "## Task and architecture\n",
    "\n",
    "__The task__ is to train an RNN to generate sequences from expression `|`$ a^n b^m c^{n+m} $\n",
    " * n and m are integers\n",
    " * Performance metrics:\n",
    "  * Correct format - `|`, some a, some b, some c\n",
    "     * ||aaacbbcba would be an example of incorrect one\n",
    "  * Number of C letters to be as close to sum of A band B letters as possible\n",
    "     * Ideally, #c = #a + #b\n",
    "     \n",
    "\n",
    "Model we use:\n",
    " * Stack-augmented RNN\n",
    " \n",
    "Trained as a language model (predicting next symbols given preceding history)"
   ]
  },
  {
   "cell_type": "markdown",
   "metadata": {},
   "source": [
    "### Sequence generator"
   ]
  },
  {
   "cell_type": "code",
   "execution_count": 3,
   "metadata": {
    "collapsed": false
   },
   "outputs": [],
   "source": [
    "def generate_sequence(batch_size = 10,crop_length = 100 ):\n",
    "    \"\"\"\n",
    "    Generates sequence from pattern [0  1*n 2*m 3*(n+m)]\n",
    "    \"\"\"\n",
    "    sequences=[]\n",
    "    for i in range(batch_size):\n",
    "        seq = [0]\n",
    "        while len(seq) < crop_length:\n",
    "            n,m = np.random.randint(1,10,2)\n",
    "        \n",
    "            seq += [0]+ [1]*n+[2]*m+[3]*(n+m)\n",
    "        seq = seq[:crop_length]\n",
    "        sequences.append(seq)\n",
    "    return np.array(sequences,dtype='int32')\n",
    "\n",
    "alphabet = np.array(list('|abc'))"
   ]
  },
  {
   "cell_type": "code",
   "execution_count": 4,
   "metadata": {
    "collapsed": true
   },
   "outputs": [],
   "source": [
    "#quality evaluation\n",
    "from operator import add\n",
    "import re\n",
    "def get_metrics(gen_sequences,alphabet):    \n",
    "    strings = map(lambda v:reduce(add,v), map(alphabet.__getitem__,gen_sequences))\n",
    "    \n",
    "    #at least one complete string\n",
    "    strings = filter(lambda v: '|' in v,strings)\n",
    "    \n",
    "    #cut off last unfinished string, if any\n",
    "    \n",
    "    strings = map(lambda v: v[:-1-v[::-1].index('|')],strings)\n",
    "    \n",
    "    all_strings = '|'.join(strings)\n",
    "    \n",
    "    \n",
    "    \n",
    "    seqs = filter(len,all_strings.split('|'))\n",
    "    \n",
    "    matches = map(lambda seq:re.match(r\"^a+b+c+\",seq),seqs)\n",
    "    \n",
    "    is_correct = map( lambda seq,m: m is not None and m.pos==0 and m.endpos == len(seq), \n",
    "                        seqs, matches)\n",
    "    \n",
    "    \n",
    "    \n",
    "    \n",
    "    correct_seqs = np.array(seqs)[np.array(is_correct,dtype='bool')]\n",
    "    \n",
    "    seqs_error = map(lambda s: s.count('a')+ s.count('b') - s.count('c'),correct_seqs)\n",
    "    \n",
    "    return np.mean(is_correct), np.mean(np.abs(seqs_error))\n"
   ]
  },
  {
   "cell_type": "markdown",
   "metadata": {},
   "source": [
    "### samples"
   ]
  },
  {
   "cell_type": "code",
   "execution_count": 5,
   "metadata": {
    "collapsed": false
   },
   "outputs": [
    {
     "name": "stdout",
     "output_type": "stream",
     "text": [
      "CPU times: user 4 ms, sys: 0 ns, total: 4 ms\n",
      "Wall time: 1.96 ms\n"
     ]
    },
    {
     "data": {
      "text/plain": [
       "['||aaabbbbbbccccccccc|abbbcccc|aaaaabbbbbbbbccccccccccccc|aaabbbbbbbcccccccccc|aaaaaabbbccccccccc|aab',\n",
       " '||aaaabbbccccccc|abbbbccccc|aaaaaaaaabbbbbcccccccccccccc|aaaabbbbbbbbcccccccccccc|aaabbbbbcccccccc|a',\n",
       " '||aaaabbbccccccc|abbccc|aabbbbbccccccc|aaaaaaaaabbccccccccccc|aabbbbcccccc|aaaaaabbbbbbbbbcccccccccc',\n",
       " '||aaaaaaabbbbccccccccccc|aabccc|abcc|aaaaaaabbbbbbbbccccccccccccccc|abbbcccc|aaaaaabbbbbbbbbcccccccc',\n",
       " '||aaaaabbbbccccccccc|aaaaaaabbbcccccccccc|aaaaaabbcccccccc|aaaaaaaabbbbbbbccccccccccccccc|aaaaaaaabb']"
      ]
     },
     "execution_count": 5,
     "metadata": {},
     "output_type": "execute_result"
    }
   ],
   "source": [
    "%%time\n",
    "map(''.join,map(alphabet.__getitem__,generate_sequence(5,100)))"
   ]
  },
  {
   "cell_type": "markdown",
   "metadata": {},
   "source": [
    "# Constants"
   ]
  },
  {
   "cell_type": "code",
   "execution_count": 6,
   "metadata": {
    "collapsed": true
   },
   "outputs": [],
   "source": [
    "# length of training/generation sequence\n",
    "SEQ_LENGTH = 50\n",
    "\n",
    "# Sequences in a minibatch\n",
    "BATCH_SIZE = 100\n",
    "\n",
    "# Total epochs\n",
    "N_EPOCHS = 5000\n",
    "\n",
    "#how often to print metrics\n",
    "REPORT_RATE = 100"
   ]
  },
  {
   "cell_type": "code",
   "execution_count": 7,
   "metadata": {
    "collapsed": true
   },
   "outputs": [],
   "source": [
    "#Reference sequences for training\n",
    "sequences_batch = T.matrix(dtype=\"int32\",name=\"reference_sequences\")\n",
    "\n",
    "#Batch size (theano expression)\n",
    "batch_size = sequences_batch.shape[0]\n"
   ]
  },
  {
   "cell_type": "markdown",
   "metadata": {},
   "source": [
    "# Define RNN\n",
    "\n",
    "A \"simple\" scheme of what was there in the paper, followed exactly by the code below\n",
    "\n",
    "* Time goes from left to right\n",
    "* Layers start at the bottom and go up\n",
    "* memory states are green, memory updates are purple\n",
    "* inputs and outputs are blue traingles\n",
    "* transformations are in pale yellow\n",
    "\n",
    "![canvas](http://s32.postimg.org/vefrk7vqt/stack_gru.png)"
   ]
  },
  {
   "cell_type": "code",
   "execution_count": 8,
   "metadata": {
    "collapsed": false
   },
   "outputs": [],
   "source": [
    "import lasagne\n",
    "from lasagne.layers import DenseLayer, ConcatLayer, InputLayer, EmbeddingLayer\n",
    "\n",
    "import agentnet\n",
    "from agentnet.resolver import ProbablisticResolver\n",
    "\n",
    "from agentnet.memory import GRUMemoryLayer, StackAugmentation\n",
    "\n",
    "\n",
    "from agentnet.agent import Recurrence\n"
   ]
  },
  {
   "cell_type": "code",
   "execution_count": 9,
   "metadata": {
    "collapsed": false
   },
   "outputs": [],
   "source": [
    "\n",
    "\n",
    "#input letter goes here\n",
    "output_shape = (None,)\n",
    "observation_layer = InputLayer(output_shape,name=\"obs_input\")\n",
    "\n",
    "\n",
    "\n",
    "##Outputs\n",
    "\n",
    "# next letter probabilities\n",
    "\n",
    "probability_layer = lasagne.layers.DenseLayer(gru,\n",
    "                                         num_units = n_tokens,\n",
    "                                         nonlinearity=  lasagne.nonlinearities.softmax,\n",
    "                                         name=\"policy_original\")\n",
    "\n",
    "#resolver picks a particular letter in generation mode\n",
    "\n",
    "resolver = ProbablisticResolver(probability_layer,\n",
    "                                assume_normalized=True,\n",
    "                                name=\"resolver\")\n",
    "\n",
    "\n",
    "#verify that letter shape matches\n",
    "assert tuple(lasagne.layers.get_output_shape(resolver)) == tuple(output_shape)\n",
    "\n",
    "\n",
    "#define a dictionary that maps agent's \"next memory\" output to its previous memory input\n",
    "from collections import OrderedDict\n",
    "memory_dict = OrderedDict([\n",
    "            (gru,prev_gru_layer),\n",
    "            (next_stack, prev_stack_layer),\n",
    "    ])\n"
   ]
  },
  {
   "cell_type": "markdown",
   "metadata": {},
   "source": [
    "# Training mode\n",
    "\n",
    "* Here we define an in-training version of out generator.\n",
    "* To speed up training, we will feed agent with a reference sequences.\n",
    "* So, agent pretends to generate letters, but actually is fed with the reference ones.\n"
   ]
  },
  {
   "cell_type": "code",
   "execution_count": 1,
   "metadata": {
    "collapsed": false
   },
   "outputs": [
    {
     "ename": "NameError",
     "evalue": "name 'InputLayer' is not defined",
     "output_type": "error",
     "traceback": [
      "\u001b[1;31m---------------------------------------------------------------------------\u001b[0m",
      "\u001b[1;31mNameError\u001b[0m                                 Traceback (most recent call last)",
      "\u001b[1;32m<ipython-input-1-f3083f17301e>\u001b[0m in \u001b[0;36m<module>\u001b[1;34m()\u001b[0m\n\u001b[0;32m      1\u001b[0m \u001b[1;31m#define an input layer that stores sequences\u001b[0m\u001b[1;33m\u001b[0m\u001b[1;33m\u001b[0m\u001b[0m\n\u001b[1;32m----> 2\u001b[1;33m sequences_input_layer = InputLayer((None,SEQ_LENGTH),\n\u001b[0m\u001b[0;32m      3\u001b[0m                                    \u001b[0minput_var\u001b[0m\u001b[1;33m=\u001b[0m \u001b[0msequences_batch\u001b[0m\u001b[1;33m,\u001b[0m\u001b[1;33m\u001b[0m\u001b[0m\n\u001b[0;32m      4\u001b[0m                                    \u001b[0mname\u001b[0m \u001b[1;33m=\u001b[0m \u001b[1;34m\"reference sequences\"\u001b[0m\u001b[1;33m\u001b[0m\u001b[0m\n\u001b[0;32m      5\u001b[0m                                   )\n",
      "\u001b[1;31mNameError\u001b[0m: name 'InputLayer' is not defined"
     ]
    }
   ],
   "source": [
    "#define an input layer that stores sequences\n",
    "sequences_input_layer = InputLayer((None,SEQ_LENGTH),\n",
    "                                   input_var= sequences_batch,\n",
    "                                   name = \"reference sequences\"\n",
    "                                  )\n"
   ]
  },
  {
   "cell_type": "code",
   "execution_count": null,
   "metadata": {
    "collapsed": true
   },
   "outputs": [],
   "source": [
    "<Main stuff goes here,see lecture instructions>"
   ]
  },
  {
   "cell_type": "code",
   "execution_count": null,
   "metadata": {
    "collapsed": true
   },
   "outputs": [],
   "source": []
  },
  {
   "cell_type": "markdown",
   "metadata": {},
   "source": [
    "# Unroll the recurrence\n",
    "\n",
    "* returns sessions of shape [batch_size, sequence_length, variable_size] for each variable\n",
    "\n",
    "* this is still happening inside a lasagne networks\n",
    "  * which allows you to, for example, create a recurrence inside another recurrence"
   ]
  },
  {
   "cell_type": "code",
   "execution_count": 19,
   "metadata": {
    "collapsed": false
   },
   "outputs": [],
   "source": [
    "#get lasagne layers for sequences\n",
    "# dict of RNN/stack sequences, (actions and probabilities output)\n",
    "recurrent_states,  wouldbe_letters_layer, probas_seq_layer= <get the sequence layers>\n",
    "\n",
    "\n",
    "\n",
    "\n",
    "# gru state sequence (can extract stack likewise)\n",
    "rnn_seq_layer = recurrent_states[gru]\n",
    "\n",
    "\n",
    "\n",
    "# for this task we only need probabilities :)\n",
    "# probas_seq_layer\n"
   ]
  },
  {
   "cell_type": "code",
   "execution_count": 20,
   "metadata": {
    "collapsed": false
   },
   "outputs": [],
   "source": [
    "probas_seq = lasagne.layers.get_output(probas_seq_layer)"
   ]
  },
  {
   "cell_type": "markdown",
   "metadata": {},
   "source": [
    "### The rest is a regular lasagne"
   ]
  },
  {
   "cell_type": "markdown",
   "metadata": {},
   "source": [
    "### Weights"
   ]
  },
  {
   "cell_type": "code",
   "execution_count": 21,
   "metadata": {
    "collapsed": false
   },
   "outputs": [
    {
     "data": {
      "text/plain": [
       "[input_embedding.W,\n",
       " stack input.W,\n",
       " stack input.b,\n",
       " stack controls.W,\n",
       " stack controls.b,\n",
       " YetAnotherGRUMemoryLayer.W_in_to_updategate,\n",
       " YetAnotherGRUMemoryLayer.W_hid_to_updategate,\n",
       " YetAnotherGRUMemoryLayer.b_updategate,\n",
       " YetAnotherGRUMemoryLayer.W_in_to_resetgate,\n",
       " YetAnotherGRUMemoryLayer.W_hid_to_resetgate,\n",
       " YetAnotherGRUMemoryLayer.b_resetgate,\n",
       " YetAnotherGRUMemoryLayer.W_in_to_hidden_update,\n",
       " YetAnotherGRUMemoryLayer.W_hid_to_hidden_update,\n",
       " YetAnotherGRUMemoryLayer.b_hidden_update,\n",
       " policy_original.W,\n",
       " policy_original.b]"
      ]
     },
     "execution_count": 21,
     "metadata": {},
     "output_type": "execute_result"
    }
   ],
   "source": [
    "#Obtain them\n",
    "weights = lasagne.layers.get_all_params(probas_seq_layer,\n",
    "                                        trainable=True,\n",
    "                                       )\n",
    "weights"
   ]
  },
  {
   "cell_type": "code",
   "execution_count": 22,
   "metadata": {
    "collapsed": false
   },
   "outputs": [
    {
     "name": "stdout",
     "output_type": "stream",
     "text": [
      "Total weights: 4186\n"
     ]
    }
   ],
   "source": [
    "total_weights = int(T.sum([T.prod(w.shape) for w in weights]).eval())\n",
    "print \"Total weights:\", total_weights\n"
   ]
  },
  {
   "cell_type": "markdown",
   "metadata": {},
   "source": [
    "# Loss function\n",
    "\n",
    "simple crossentropy"
   ]
  },
  {
   "cell_type": "code",
   "execution_count": 23,
   "metadata": {
    "collapsed": false
   },
   "outputs": [],
   "source": [
    "\n",
    "# take all predicitons but for last one (we don't have it's 'next')\n",
    "predicted_probas = probas_seq[:,:-1]\n",
    "\n",
    "# crop probabilities to avoid -Inf logarithms\n",
    "predicted_probas = T.maximum(predicted_probas,1e-10)\n",
    "\n",
    "# correct answers\n",
    "references = sequences_batch[:,1:]\n",
    "\n",
    "\n",
    "\n",
    "# familiar lasagne crossentropy\n",
    "model_loss = lasagne.objectives.categorical_crossentropy(\n",
    "    predicted_probas.reshape([-1,n_tokens]),\n",
    "    references.ravel()\n",
    ").mean()\n",
    "\n",
    "\n",
    "\n"
   ]
  },
  {
   "cell_type": "code",
   "execution_count": 24,
   "metadata": {
    "collapsed": true
   },
   "outputs": [],
   "source": [
    "#Regularizer for kicks\n",
    "from lasagne.regularization import regularize_network_params, l2\n",
    "reg_l2 = regularize_network_params(resolver,l2)*10**-5\n",
    "loss = model_loss + reg_l2\n"
   ]
  },
  {
   "cell_type": "code",
   "execution_count": 25,
   "metadata": {
    "collapsed": false
   },
   "outputs": [],
   "source": [
    "updates = lasagne.updates.adadelta(loss,weights,learning_rate=0.1)"
   ]
  },
  {
   "cell_type": "markdown",
   "metadata": {},
   "source": [
    "# Compile the training and evaluation steps\n",
    "\n",
    "* Since we unroll scans, the first compile may take approx. 3.5 cups of tea\n",
    "* If you want it to just compile something, consider either of the two:\n",
    " * turning off optimizer\n",
    " * reducing sequence length to, say, 20"
   ]
  },
  {
   "cell_type": "code",
   "execution_count": 26,
   "metadata": {
    "collapsed": false
   },
   "outputs": [],
   "source": [
    "train_fun = theano.function([sequences_batch],[loss],updates=updates)\n",
    "evaluation_fun = theano.function([sequences_batch],[loss,model_loss,reg_l2])"
   ]
  },
  {
   "cell_type": "markdown",
   "metadata": {},
   "source": [
    "# Generating letters recurrently\n",
    "* In this mode, generator's i+1'st input is it's i-th output\n",
    "* the only difference in terms of code is that instead of reading letters from sequence,\n",
    "  * we feed bach the previously generated ones "
   ]
  },
  {
   "cell_type": "code",
   "execution_count": 27,
   "metadata": {
    "collapsed": false
   },
   "outputs": [],
   "source": [
    "# Recurrent state dictionary: maps state outputs to prev_state inputs\n",
    "feedback_dict = OrderedDict([\n",
    "            <your code>\n",
    "    ])\n",
    "\n",
    "\n",
    "# generation batch size\n",
    "gen_batch_size = T.scalar('generated batch size','int32')\n",
    "\n",
    "\n",
    "\n",
    "#define a lasagne recurrence that actually generates letters\n",
    "# it will be used to generate sample sequences.\n",
    "\n",
    "generator_active = Recurrence(\n",
    "    <your code>\n",
    "    )"
   ]
  },
  {
   "cell_type": "code",
   "execution_count": 28,
   "metadata": {
    "collapsed": false
   },
   "outputs": [],
   "source": [
    "#get sequences as before\n",
    "generator_memory, generator_outputs = generator_active.get_sequence_layers()\n",
    "\n",
    "action_seq_layer, gen_probabilities_layer = generator_outputs\n",
    "\n",
    "generated_action_seq = lasagne.layers.get_output(action_seq_layer)"
   ]
  },
  {
   "cell_type": "code",
   "execution_count": 29,
   "metadata": {
    "collapsed": false
   },
   "outputs": [],
   "source": [
    "# ~0.5 tea cups\n",
    "get_sequences = theano.function([gen_batch_size],generated_action_seq)"
   ]
  },
  {
   "cell_type": "code",
   "execution_count": 30,
   "metadata": {
    "collapsed": false,
    "scrolled": true
   },
   "outputs": [
    {
     "data": {
      "text/plain": [
       "[array(['c', 'c', 'c', '|', '|', 'b', 'a', 'b', '|', 'a', 'c', 'a', '|',\n",
       "        'b', '|', 'b', 'a', '|', 'c', '|', '|', '|', '|', 'c', 'c', '|',\n",
       "        'c', 'b', 'c', 'b', '|', '|', 'c', 'c', 'a', 'c', 'a', '|', '|',\n",
       "        'a', 'b', '|', 'c', 'c', 'c', 'a', 'b', 'c', 'b', 'a'], \n",
       "       dtype='|S1'),\n",
       " array(['c', 'a', 'b', 'a', 'c', 'a', '|', 'b', '|', 'c', '|', 'c', 'c',\n",
       "        'b', '|', 'b', 'b', 'c', 'a', 'a', '|', 'b', 'c', 'b', 'b', 'a',\n",
       "        'b', 'c', 'b', 'b', 'a', '|', 'b', 'c', 'a', '|', 'c', '|', 'b',\n",
       "        'c', 'b', '|', 'a', 'a', 'a', 'b', 'c', 'b', 'b', '|'], \n",
       "       dtype='|S1'),\n",
       " array(['|', 'b', 'c', 'c', '|', 'a', 'b', 'a', 'c', '|', 'c', 'b', 'a',\n",
       "        'a', 'a', 'b', '|', 'a', '|', 'b', 'b', 'b', '|', 'a', 'b', '|',\n",
       "        '|', 'c', '|', 'c', 'a', 'b', 'a', 'c', 'b', 'a', 'b', '|', '|',\n",
       "        'c', 'a', 'b', '|', 'c', 'b', 'a', 'b', '|', '|', '|'], \n",
       "       dtype='|S1')]"
      ]
     },
     "execution_count": 30,
     "metadata": {},
     "output_type": "execute_result"
    }
   ],
   "source": [
    "#sample output\n",
    "map(alphabet.__getitem__,get_sequences(3))"
   ]
  },
  {
   "cell_type": "markdown",
   "metadata": {},
   "source": [
    "# Training loop:\n",
    "\n",
    "* Generating sequences\n",
    "* Training on them\n",
    "* Printing metrics every once in a while"
   ]
  },
  {
   "cell_type": "code",
   "execution_count": 31,
   "metadata": {
    "collapsed": true
   },
   "outputs": [],
   "source": [
    "from collections import defaultdict\n",
    "\n",
    "metrics = defaultdict(dict)"
   ]
  },
  {
   "cell_type": "code",
   "execution_count": 32,
   "metadata": {
    "collapsed": false,
    "scrolled": true
   },
   "outputs": [
    {
     "name": "stdout",
     "output_type": "stream",
     "text": [
      "iter:0\tfull:1.38563\tllh:1.38508\treg:0.00056\n",
      "Correct sequences ratio: 0.03491\n",
      "C-s count mean abs error: 2.52201\n",
      "c | c | a | c b c a c c a c a b a c c c b | | | | a c | b a b | a b b b c b | a | | a c c c c a | a\n",
      "b | | a a c c a | a | a b | | c b c c | b c | a c | | | a c | c a | | c a b a b a c a | a | a c | b\n",
      "| a | b b a b | c | a | | | c b b b | c a b b | | a b a b c a c b a c c b c b c c a c b a b | | a |\n",
      "iter:100\tfull:1.15894\tllh:1.15836\treg:0.00057\n",
      "Correct sequences ratio: 0.05759\n",
      "C-s count mean abs error: 3.08092\n",
      "| c b b | a c c a b b c b a b c a c | a c c a c c a c b b b b c a a c c b | c a c b b a c c c c b b\n",
      "a b c a | b c a c c a a b c b c a c c a b b a c | b c c a | c b a | c c c b | c | b c c b b c b b b\n",
      "| c c c c a a | | c c c b c c b c a c b b c c b a c a a c b | a a c a b c c c c a b c c b a a b c c\n",
      "iter:200\tfull:0.65678\tllh:0.65613\treg:0.00065\n",
      "Correct sequences ratio: 0.09806\n",
      "C-s count mean abs error: 4.39831\n",
      "a a c a a a | b a a b c c b c c c c c c c c c c c c c b a | a a a a b b a b c c c c c c c b c c c c\n",
      "a a a b c c c c | c b b c c | c a | a a b a a a b b a a c b b b c c c c c c c c c c c | c | b | a a\n",
      "a | a b b b | b b b b c b b b c b c c c | | c c c c c | a a a b a a a a a a a c c b c | b a b a b b\n",
      "iter:300\tfull:0.49263\tllh:0.49191\treg:0.00072\n",
      "Correct sequences ratio: 0.37749\n",
      "C-s count mean abs error: 3.28670\n",
      "a b a a a b b b c c c c c c c c c | b a a a a a b b b b b b c c c c c c c c c c c c c c | a a b b b\n",
      "a a b b c c c c | a a a a a b b b b b b b b c c c c c c c c | a a b b a b c b b c c c c c c c c c |\n",
      "a a a | b b b b b b c c c c c c c c c c a a a a b b b c c c c c c c c | c a | a a b | a a b b b b b\n",
      "iter:400\tfull:0.42479\tllh:0.42404\treg:0.00075\n",
      "Correct sequences ratio: 0.55316\n",
      "C-s count mean abs error: 2.94632\n",
      "a a a b b b b b b b b c b a c b b c c c c c c c c c c c c | a a a a b b a a a b b b c c c c c c c c\n",
      "a a a a a a b b b b c c c c c c c c c | a a a b b b b b c c c c c c c c | a a a a a a a a c c c c c\n",
      "a a a a b b b b b c c c c c | a a b b b b b c b c c c | a a a b b b b b b c c c c c c c c c c c c c\n",
      "iter:500\tfull:0.41526\tllh:0.41447\treg:0.00078\n",
      "Correct sequences ratio: 0.63475\n",
      "C-s count mean abs error: 2.44325\n",
      "| b b b b b c c c | c c c | a a a b b b b c b c c c c c c c c | a a a a a a a b b b b c c c c c c c\n",
      "a a a b a c c c c c c | a a a a a a a b b b b c c c c c c c | a a a a b b b b b b c | c c c c c c c\n",
      "a a a a a b c c c c c c c | c a a a a a a a a b c c c c c c c c c | | a a a a a a b b b b c c c c c\n",
      "iter:600\tfull:0.38578\tllh:0.38497\treg:0.00081\n",
      "Correct sequences ratio: 0.69572\n",
      "C-s count mean abs error: 1.86844\n",
      "a a a a a a b b b b b b c c c c c c c c c | a a a a a b b b b b b c c c c c c c c c c c | a a a b b\n",
      "a a a a a a b b b c c c c c c c c | a a a a b b b b b b b b b c c c c c c c c c c c c c c c | | a a\n",
      "a a a a b b b c c c c c c | a a a a a a b b b b b c c c c c c c c c c | a a a a a b b b b b c c c c\n",
      "iter:700\tfull:0.37493\tllh:0.37410\treg:0.00083\n",
      "Correct sequences ratio: 0.70975\n",
      "C-s count mean abs error: 1.64116\n",
      "a a a a a a b b b b b b b b b c c c c c c c c c c c c | c c c | a a a a a a b b b b c c c c c c c c\n",
      "a a a a a a a a b b b b b b c c c c c c c c c c c c c | a a a a b b b c c c c c c | a a a a a a a b\n",
      "c | | a a a a | a a a a b b b b b b b c c c c c c c c c c c c c c | a a a a a b b b b c c c c c c c\n",
      "iter:800\tfull:0.35232\tllh:0.35147\treg:0.00085\n",
      "Correct sequences ratio: 0.74520\n",
      "C-s count mean abs error: 1.29505\n",
      "b b c c | a a a a a a a b b b b c c c c c c c c c c c | a a a a a a a b b b b c c c c c c c c c c c\n",
      "a a a a a a a b b b b c c c c c c c c c c c c | a a a a a a a b b b c c c c c c c c c c | a a a a a\n",
      "a a a a a a b b b b b b b b b b b b b c c c c c c c c c c c c c c c c c c c a a a a a b b b b b b b\n",
      "iter:900\tfull:0.35167\tllh:0.35080\treg:0.00087\n",
      "Correct sequences ratio: 0.75224\n",
      "C-s count mean abs error: 1.17561\n",
      "| a a b b c c c c c c | a a a a a a a a a b b b c c c c c c c c c a a a a a b b b b c c c c c c c c\n",
      "a a a a b b b c c c c c c c | a a a a a b b b b b c c c c c c c c c c c | a a a a a a a b b b b b b\n",
      "c c | a a a a a a a a b b b b b b b b b b b b b b b b b c c c c c c c c c c c c c c c c c c c c c c\n",
      "iter:1000\tfull:0.32814\tllh:0.32724\treg:0.00089\n",
      "Correct sequences ratio: 0.76696\n",
      "C-s count mean abs error: 0.97564\n",
      "a a a a a b b b b b b b b c c c c c c c c c c c c c | a a a a a a a b b c c c c c c c c c | a a a a\n",
      "a a a a a a b b c c c c c c c | a a a a a b b b b b c c c c c c c c c c c c | a a a a a a b b b b b\n",
      "b b c c | | a a a a a a a a b b a b b b c c c c c c c c c c c c c c c | a a a a a a b b b b b b b c\n",
      "iter:1100\tfull:0.32701\tllh:0.32610\treg:0.00091\n",
      "Correct sequences ratio: 0.78973\n",
      "C-s count mean abs error: 0.85375\n",
      "a a a b b b c c c c | a a a a a b b b b b c c c c c c c c c c a a a a a a a b b b b b b c c c c c c\n",
      "| a b b b b b c c c c a a b b b b b c c c c c c c c c | a a a a b b b c c c c c c c | a a a a a a a\n",
      "| a a a a a a a b b b b b b b c c c c c c c c c c c c a a a a a b b b b c c c c c c c c c c c | a b\n",
      "iter:1200\tfull:0.30346\tllh:0.30252\treg:0.00094\n",
      "Correct sequences ratio: 0.82019\n",
      "C-s count mean abs error: 0.72521\n",
      "b b b b b b c c c c c | a a a a a a a a b b b b b b b b c c c c c c c c c c c c c c c c | a a a a a\n",
      "| a a a b b b b b b b c c c c c c c c c c | a a a a a b c c c c c c | a a a b b b b b b c c c c c c\n",
      "| a a a a a a b b c b b b c c c c c c c c c c c c | | a a a a a a a b b b b c c c c c c c c c | a a\n",
      "iter:1300\tfull:0.30101\tllh:0.30005\treg:0.00096\n",
      "Correct sequences ratio: 0.81007\n",
      "C-s count mean abs error: 0.66338\n",
      "a a a a a b b b b b b c c c c c c c c c c c c | a a a a a a b b b b b c c c c c c c c c c c | a a a\n",
      "a a a a b b b b c c c c c c c c c | a a a a a b b b b b c c c c c c c c c c | a a a a a a a a a a b\n",
      "a a a a a a a a a b b b b b c c c c c c c c c c c c c c | a a a a a b b b b c c c c c c c c c | a a\n",
      "iter:1400\tfull:0.28819\tllh:0.28721\treg:0.00098\n",
      "Correct sequences ratio: 0.82292\n",
      "C-s count mean abs error: 0.56964\n",
      "a a a b b b b b b b c c c c c c c c c c | | a a a a a a a c c c c c c c c | | a a a a a b b b c c c\n",
      "c | a a a b b b b b c c c c c c c | a a a a a a b b b b c c c c c c c c c c c | a a a a a a a a a b\n",
      "a a b b b c c c c c | a a a a a b c c c c c c c | a a a b b c c c c c | a a a a a b b b b b b b b c\n",
      "iter:1500\tfull:0.29667\tllh:0.29567\treg:0.00100\n",
      "Correct sequences ratio: 0.84136\n",
      "C-s count mean abs error: 0.46760\n",
      "c | | a a a a a a a b b b b b c c c c c c c c c c c c | a a a a a a a a b b b b b b b b c c c c c c\n",
      "| a b a a b b b b b b c c c c c c c c c c | a a a a a a a b b b b b b b b c c c c c c c c c c c c c\n",
      "| | a a a a a a a a a b b b c c c c c c c c c c c c c | a a a b b b b b b c c c c c c c c | a a a a\n",
      "iter:1600\tfull:0.28263\tllh:0.28160\treg:0.00102\n",
      "Correct sequences ratio: 0.85185\n",
      "C-s count mean abs error: 0.41476\n",
      "a a b b b c c c c c | a a a a a a a b b b b b b b b b c c c c c c c c c c c c c c c | a a a b b b b\n",
      "| a a b b b c c c c c | a a a a a a a a b b b b b b b c c c c c c c c c c c c c c c | a b b b c c c\n",
      "| a a a b b b b b c c c c c c c c | a a b a a b b b b b b c c c c c c c c c c c | a a a a a a a a b\n",
      "iter:1700\tfull:0.29123\tllh:0.29019\treg:0.00104\n",
      "Correct sequences ratio: 0.87327\n",
      "C-s count mean abs error: 0.35008\n",
      "a a a a b b b b b b b b b c c c c c c c c c c c c c | a a a a a a a b b b b b b c c c c c c c c c c\n",
      "a a a a b b b b b c c c c c c c c c | a a b b b b b b b c c c c c c c c c | | a a b b b c c c c c |\n",
      "a a a a a a a b c c c c c c c c | a a a a a a a a b b b c c c c c c c c c c | a a a a b b b b b b c\n",
      "iter:1800\tfull:0.27298\tllh:0.27192\treg:0.00106\n",
      "Correct sequences ratio: 0.89645\n",
      "C-s count mean abs error: 0.30460\n",
      "a a b b b b b b b b b b b c c c c c c c c c c c c | a a a a a b b b b b b c c c c c c c c c c c c c\n",
      "| a a a a a a b c c c c c c c c | | a a a a a b b b c c c c c c c c | a a a b b b b b c c c c c c c\n",
      "| | | a a a a b b b b b b b b c c c c c c c c c c c c | a b b b b b b b b b b b b b b b c c c c c c\n",
      "iter:1900\tfull:0.27421\tllh:0.27313\treg:0.00108\n",
      "Correct sequences ratio: 0.89453\n",
      "C-s count mean abs error: 0.25828\n",
      "a a a a a a b b b c c c c c c c c c | a a a a a a a b b b b b c c c c c c c c c c c c | a a a a a a\n",
      "| a a a a a a a b b b b b c c c c c c c c c c c | a a a a a a a a b c c c c c c c c c c | a a b b b\n",
      "a a b b b b b c c c c c c c | a a a a a b b b b b b b b b b c c c c c c c c c c c c c c c c | a b b\n",
      "iter:2000\tfull:0.27417\tllh:0.27307\treg:0.00110\n",
      "Correct sequences ratio: 0.89548\n",
      "C-s count mean abs error: 0.23737\n",
      "| a b b b b b b b b b b b b b b b c c c c c c c c c c c c c c c | a a a a b b b b b c c c c c c c c\n",
      "b b b b b c c c c c | | a a a a a a a b b c c c c c c c c c c | a a a a a a a a b b b b b b b c c c\n",
      "| | | a a a a a a a b b b b c c c c c c c c c c c | a a a a b b b b b c c c c c c c c c | a a a a b\n",
      "iter:2100\tfull:0.27566\tllh:0.27455\treg:0.00111\n",
      "Correct sequences ratio: 0.91028\n",
      "C-s count mean abs error: 0.21311\n",
      "| a a a a b b b b b b b b b b c c c c c c c c c c c c c c | a a b b b c c c c c c | a a a a a a b b\n",
      "a a a a a a a b b b b b c c c c c c c c c c c c | a a a a a a a b c c c c c c c c c | a a a a a a a\n",
      "a a a a a b b b b b b c c c c c c c c c c c | a a a b b b b b b b c c c c c c c c c c | a a b b b b\n",
      "iter:2200\tfull:0.27527\tllh:0.27415\treg:0.00113\n",
      "Correct sequences ratio: 0.91260\n",
      "C-s count mean abs error: 0.17762\n",
      "| b b b b c c c | a a a b a b c c c c c c | a a a a a a a b b c c c c c c c c c c | a a a a a b b b\n",
      "| | a a a c c c c | a a a a a a a a b b b b b b c c c c c c c c c c c c c | a b b b b b c c c c c c\n",
      "| a a a a a a a a b b c c c c c c c c c c | a a a b b b c c c c c c | a a a a a a b c c c c c c c |\n",
      "iter:2300\tfull:0.27189\tllh:0.27075\treg:0.00114\n",
      "Correct sequences ratio: 0.93715\n",
      "C-s count mean abs error: 0.16658\n",
      "| a a a a a a a a b b b c c c c c c c c c c c | a a a a a a a b b b b b b b c c c c c c c c c c c c\n",
      "c | | a a a a b b b b b b b b c c c c c c c c c c c c | a a a a a a b b b b b c c c c c c c c c c c\n",
      "a b c c c | a b b b c c c | a a b b b b b b b b b b b c c c c c c c c c c c c c | a a a a a a a a a\n",
      "iter:2400\tfull:0.25491\tllh:0.25376\treg:0.00116\n",
      "Correct sequences ratio: 0.92951\n",
      "C-s count mean abs error: 0.13164\n",
      "c | | a a a b b b b b c c c c c c c c | a a a a a a a a b b b b b b b b b c c c c c c c c c c c c c\n",
      "a a a b b b b b b b c c c c c c c c c c | a a a a a a b b b b c c c c c c c c c c | a b b c c c | a\n",
      "a a a a a a a a a a b b c c c c c c c c c c c c | a a a a a a a a a b b b b b b b b b c c c c c c c\n",
      "iter:2500\tfull:0.25515\tllh:0.25397\treg:0.00117\n",
      "Correct sequences ratio: 0.93170\n",
      "C-s count mean abs error: 0.12927\n",
      "a a a a a a a b c c c c c c c c | a b b b b b c c c c c c c | a a a a b b b b b b b c c c c c c c c\n",
      "| a a b b b b c c c c c c | a a a a a a b b b b c c c c c c c c c c | a a b b b b b b b b b b b c c\n",
      "| a a a a b b b b b b c c c c c c c c c c | a a a a a a a a b b c c c c c c c c c c | a b b b b b b\n",
      "iter:2600\tfull:0.25473\tllh:0.25354\treg:0.00119\n",
      "Correct sequences ratio: 0.93880\n",
      "C-s count mean abs error: 0.12707\n",
      "| a a a a a a b b b b b b c c c c c c c c c c c c c | a a a a a a a b b b b b c c c c c c c c c c c\n",
      "a b b b b b c c c c c c | a a a a a a a b b b b b b b b b c c c c c c c c c c c c c c c c | a a a a\n",
      "a a a a a b b a b b b c c c c c c c c c c c | a a a a a a b c c c c c c c | a a a a a a a a b b b b\n",
      "iter:2700\tfull:0.25310\tllh:0.25191\treg:0.00120\n",
      "Correct sequences ratio: 0.94450\n",
      "C-s count mean abs error: 0.10489\n",
      "| a a a b b b c c c c c | a b b c c c c | a a a a a a a a b b b b b b b b b c c c c c c c c c c c c\n",
      "a b b b b b c c c c c c | a a a a b b b b b b c c c c c c c c c c | a b b b b b b b b c c c c c c c\n",
      "a a a a a a a b b b b b b b c c c c c c c c c c c c c c | a b b b b b c c c c c c | a a a a a b b b\n",
      "iter:2800\tfull:0.25828\tllh:0.25707\treg:0.00121\n",
      "Correct sequences ratio: 0.95515\n",
      "C-s count mean abs error: 0.07684\n",
      "a a a a b b b b b b b b b b b c c c c c c c c c c c c c c c | a a b b b b b b b b b b b b b b c c c\n",
      "a a a a a a b c c c c c c c | a a a a a a b b b b b c c c c c c c c c c c | a a a a a b b b b b c c\n",
      "| | a a a a a a a c c c c c c c | a b b c c c | a a a b b b b b c c c c c c c c | a a a b b b b b b\n",
      "iter:2900\tfull:0.24821\tllh:0.24698\treg:0.00122\n",
      "Correct sequences ratio: 0.95292\n",
      "C-s count mean abs error: 0.08056\n",
      "a a b b b b b c c c c c c c | a a a a a b b b b b b c c c c c c c c c c c | a a b b b b b b b b b b\n",
      "a a a a a a a a b b b b b c c c c c c c c c c c c c | a a a b b b b b b b b c c c c c c c c c c c |\n",
      "| a a a a a a a a a b b b b b b b b c c c c c c c c c c c c c c c c c | a a a a a a a b b b b b b b\n",
      "iter:3000\tfull:0.24929\tllh:0.24805\treg:0.00124\n",
      "Correct sequences ratio: 0.96256\n",
      "C-s count mean abs error: 0.07780\n",
      "| a a a a a b b b c c c c c c c c | a a a a a a a b b b b b b c c c c c c c c c c c c c | a a a a a\n",
      "| a a b b b b c c c c c c c | a b b b b b b b c c c c c c c c | a a a b b b c c c c c c | a a a a a\n",
      "| a a a a a a a b b b b b b c c c c c c c c c c c c c | a a a a a a a b c c c c c c c c | a b b b b\n",
      "iter:3100\tfull:0.25638\tllh:0.25513\treg:0.00125\n",
      "Correct sequences ratio: 0.96822\n",
      "C-s count mean abs error: 0.06617\n",
      "| a a b b c c c c | a a a a a a b b b c c c c c c c c c | a a a a a a c c c c c c | a a a a a b b b\n",
      "a a a a b b c c c c c c | a a a a a a a b b b b b b b c c c c c c c c c c c c c c | a a a a b b b b\n",
      "| | a a a a a b b b b b c c c c c c c c c c | a a a a a a a b b b b b b b c c c c c c c c c c c c c\n",
      "iter:3200\tfull:0.25189\tllh:0.25063\treg:0.00126\n",
      "Correct sequences ratio: 0.96366\n",
      "C-s count mean abs error: 0.05948\n",
      "| a a a a a a a b c c c c c c c c | a a a b c c c c | a a a b b b b b b c c c c c c c c c c | a a a\n",
      "| a a a b b b c c c c c c | a a a b b b b b b b b c c c c c c c c c c c | a a a b b b b b b c c c c\n",
      "c | | a a a a b b b b b b b c c c c c c c c c c c | a a a a a b c c c c c c | a a a a a a b b b b b\n",
      "iter:3300\tfull:0.23220\tllh:0.23093\treg:0.00127\n",
      "Correct sequences ratio: 0.96183\n",
      "C-s count mean abs error: 0.05925\n",
      "| a a a a a a a b b b b b c c c c c c c c c c c c | a a a a a a a a b b b b b b b c c c c c c c c c\n",
      "| a a a a a a b b b b b c c c c c c c c c c c | a a a a a a a a a b b b b b c c c c c c c c c c c c\n",
      "| a a a a a a a a b b b c c c c c c c c c c c | a a a a a a a b b b b b b b b b b c c c c c c c c c\n",
      "iter:3400\tfull:0.24388\tllh:0.24260\treg:0.00128\n",
      "Correct sequences ratio: 0.97786\n",
      "C-s count mean abs error: 0.06631\n",
      "| a a a a a a a b b b b b c c c c c c c c c c c c | a b b b b c c c c c | a a a a a a a a a b b b b\n",
      "a a a a a a a a b b b b c c c c c c c c c c c c | a a a a a a a b b b b b b b b b c c c c c c c c c\n",
      "a a a a a a b b b b b b c c c c c c c c c c c c | a a a a a a a b b b c c c c c c c c c | a a a a a\n",
      "iter:3500\tfull:0.24171\tllh:0.24041\treg:0.00129\n",
      "Correct sequences ratio: 0.96979\n",
      "C-s count mean abs error: 0.06811\n",
      "| a a a a a a a b b b b b b c c c c c c c c c c c c c | a a a a a b b b b b b c c c c c c c c c c c\n",
      "| a a a a a a a a a a b b b c c c c c c c c c c c c c | a a b b b b b b b c c c c c c c c c | a a a\n",
      "| a a a a b b b b b c c c c c c c c c | a a a a b b b b b b b c c c c c c c c c c c | a a a a b b b\n",
      "iter:3600\tfull:0.24142\tllh:0.24012\treg:0.00130\n",
      "Correct sequences ratio: 0.96412\n",
      "C-s count mean abs error: 0.05232\n",
      "| a a a a a a b b b b c c c c c c c c c c | a a a a a a a c c c c c c c | a a a a a a a b b b b b b\n",
      "| a a a a a b b b b b b b b c c c c c c c c c c c c c | a a a a a a a a a a a b b b b b b b c c c c\n",
      "| | a a a a a a b b b b b c c c c c c c c c c c | a a a a a a a b b b b b c c c c c c c c c c c c |\n",
      "iter:3700\tfull:0.24381\tllh:0.24250\treg:0.00131\n",
      "Correct sequences ratio: 0.97481\n",
      "C-s count mean abs error: 0.05907\n",
      "| a a b a b b b b b c c c c c c c c c | a a a a b b c c c c c c | a a a a a a a b c c c c c c c c |\n",
      "| a a a a a a b b b b b c c c c c c c c c c c | a a a a a b b b b c c c c c c c c c | a a b b c c c\n",
      "| a a a a a a a b b b b b b c c c c c c c c c c c c c | a a a a a a a b b b c c c c c c c c c c | a\n",
      "iter:3800\tfull:0.23867\tllh:0.23734\treg:0.00132\n",
      "Correct sequences ratio: 0.97753\n",
      "C-s count mean abs error: 0.04545\n",
      "| | a a a a a a a b b b b b c c c c c c c c c c c c | a b b c c c | a a a a a a b b b b b b c c c c\n",
      "| a a a a a a a b b b b b c c c c c c c c c c c c | a a b b b b c c c c c c | a a a b b c c c c c |\n",
      "| a a a a a a a b b c c c c c c c c c | a a a a a a b b b b b b b b b c c c c c c c c c c c c c c c\n",
      "iter:3900\tfull:0.23853\tllh:0.23720\treg:0.00133\n",
      "Correct sequences ratio: 0.98140\n",
      "C-s count mean abs error: 0.03790\n",
      "| a a a a a a a b b b b b b c c c c c c c c c c c c c | a b b b b b c c c c c c | a b b b b b c c c\n",
      "| | a a a a a a a a a b b c c c c c c c c c c c | a a b b b b b b b b c c c c c c c c c c | a a a a\n",
      "| a a a a a a a a a b b c c c c c c c c c c c | a a a a a a a a a b b c c c c c c c c c c c | a a a\n",
      "iter:4000\tfull:0.24062\tllh:0.23928\treg:0.00134\n",
      "Correct sequences ratio: 0.98182\n",
      "C-s count mean abs error: 0.03439\n",
      "| a a a a a a a b b b b b b b b c c c c c c c c c c c c c c c | a a a a a a a a b b b b b b b b b b\n",
      "| a a b b b b b b b b b c c c c c c c c c c c | a a a a a b b b b b b b b b c c c c c c c c c c c c\n",
      "a b b b b b b b b b c c c c c c c c c c | a a b b b b b b c c c c c c c c | a a a a a a a b c c c c\n",
      "iter:4100\tfull:0.23566\tllh:0.23431\treg:0.00135\n",
      "Correct sequences ratio: 0.97885\n",
      "C-s count mean abs error: 0.03782\n",
      "| a a a a a a a b b c c c c c c c c c | a a a b b b b b b b c c c c c c c c c c | a a a a a b b b c\n",
      "a a b b b b c c c c c c | a a b b b b b c c c c c c c | a a a a a a a a a b b b c c c c c c c c c c\n",
      "| a a b b b c c c c c | a b b b c c c c | a a a a b b b b b b c c c c c c c c c c | a a a a a a a a\n",
      "iter:4200\tfull:0.24523\tllh:0.24388\treg:0.00136\n",
      "Correct sequences ratio: 0.97840\n",
      "C-s count mean abs error: 0.04995\n",
      "| a b b b b b c c c c c c | a a a a a a a b b b b b c c c c c c c c c c c c | a a a a a a a b b c c\n",
      "| a a a a a a a a b b b b c c c c c c c c c c c c | a a a a a a b b b b c c c c c c c c c c | a a a\n",
      "| a a a a a a b b c c c c c c c c | a a a a b b b c c c c c c c | a a b b b b c c c c c c | a a a a\n",
      "iter:4300\tfull:0.24748\tllh:0.24611\treg:0.00136\n",
      "Correct sequences ratio: 0.98811\n",
      "C-s count mean abs error: 0.02772\n",
      "| a a a a a a a a b b c c c c c c c c c c | a a b b b b b b b b c c c c c c c c c c | a a a a a a a\n",
      "| a a a a a b b b b b b b b b c c c c c c c c c c c c c c | a a a a a a a a a b b b b b c c c c c c\n",
      "| a a a a a a a b b b b c c c c c c c c c c c | a a a b b b b b b c c c c c c c c c | a a a a a b c\n",
      "iter:4400\tfull:0.23946\tllh:0.23809\treg:0.00137\n",
      "Correct sequences ratio: 0.98639\n",
      "C-s count mean abs error: 0.02493\n",
      "| | a a a a a a b b b b b b b b b c c c c c c c c c c c c c c c | a a a a a a a a a a a a b b b b b\n",
      "| a a b b b b b c c c c c c c | a a a a a a b b b b c c c c c c c c c c | a a a a b b b b b b c c c\n",
      "| a a a a a a b b b b b c c c c c c c c c c c | a a a a b b b b b b b c c c c c c c c c c c | a a a\n",
      "iter:4500\tfull:0.23533\tllh:0.23395\treg:0.00138\n",
      "Correct sequences ratio: 0.98382\n",
      "C-s count mean abs error: 0.02522\n",
      "| a a a a a a b b c c c c c c c c | a a a a a a a a b c c c c c c c c c | a a a b c c c c | a a a a\n",
      "| a a a a a a b c c c c c c c | a a a a a a a b b b b b b b c c c c c c c c c c c c c c | a a a a a\n",
      "| a a a a a a b c c c c c c c | a a b b b b c c c c c c | a a a a a a a b c c c c c c c c | a a a a\n",
      "iter:4600\tfull:0.23958\tllh:0.23820\treg:0.00139\n",
      "Correct sequences ratio: 0.98625\n",
      "C-s count mean abs error: 0.03201\n",
      "| a a a a a a a b b b b b b b c c c c c c c c c c c c c c | a a a a a a a a b b b b b b b b c c c c\n",
      "| a a a b b b b b c c c c c c c c | a a a a a b b b b b b c c c c c c c c c c c | a a a a a a a b c\n",
      "| | a a a a b c c c c c | a a a a a a a a a b b c c c c c c c c c c c | a a a b b c c c c c | a a a\n",
      "iter:4700\tfull:0.23045\tllh:0.22906\treg:0.00139\n",
      "Correct sequences ratio: 0.98210\n",
      "C-s count mean abs error: 0.03485\n",
      "| a a a a a b c c c c c c | a a a a b b b c c c c c c c | a a b b b b b b b c c c c c c c c c | a a\n",
      "| a a a a a a b b b b b b b c c c c c c c c c c c c c | a a a a a a a b b b b b c c c c c c c c c c\n",
      "| a a a a a a a b b b b b b c c c c c c c c c c c c c | a a a a a a a b b b c c c c c c c c c c | a\n",
      "iter:4800\tfull:0.24139\tllh:0.23999\treg:0.00140\n",
      "Correct sequences ratio: 0.99061\n",
      "C-s count mean abs error: 0.02792\n",
      "| a a a a a a a b b b b b b b c c c c c c c c c c c c c c | a a a b b b b b c c c c c c c c | a a a\n",
      "| a a a a a b b b b b b c c c c c c c c c c c | a a b b b b b c c c c c c c | a a a a a a a a a b b\n",
      "| a a a a a a a a b b b b c c c c c c c c c c c c | a a a a a a a b b b b b b c c c c c c c c c c c\n",
      "iter:4900\tfull:0.22783\tllh:0.22643\treg:0.00141\n",
      "Correct sequences ratio: 0.98732\n",
      "C-s count mean abs error: 0.02248\n",
      "| a a a a a a b b b b b c c c c c c c c c c c | a b b b b c c c c c | a a a a b b b b c c c c c c c\n",
      "| a a a a a a a b b c c c c c c c c c | a a a a a a a b c c c c c c c c | a a a a a b b b b b c c c\n",
      "| a a a a a a a b b b b b c c c c c c c c c c c c | a a a a a a b c c c c c c c | a a a a a a a a b\n"
     ]
    }
   ],
   "source": [
    "\n",
    "for i in range(N_EPOCHS):\n",
    "    \n",
    "    #generate reference\n",
    "    new_batch = generate_sequence(BATCH_SIZE,SEQ_LENGTH)\n",
    "    #feed the monster\n",
    "    train_fun(new_batch)\n",
    "    \n",
    "    #Display metrics once in a while\n",
    "    if i % REPORT_RATE==0:\n",
    "        \n",
    "        loss_components = evaluation_fun(new_batch)\n",
    "        print \"iter:%i\\tfull:%.5f\\tllh:%.5f\\treg:%.5f\"%tuple([i]+map(float,loss_components))        \n",
    "        \n",
    "        metrics['crossentropy'][i]=float(loss_components[1])\n",
    "        \n",
    "\n",
    "        examples = get_sequences(1000)\n",
    "        \n",
    "        correctness_ratio,c_count_mae = get_metrics(examples,alphabet)\n",
    "        \n",
    "\n",
    "        metrics[\"correctness_rates\"][i] = correctness_ratio\n",
    "        metrics[\"c_count_errors\"][i]=c_count_mae\n",
    "        \n",
    "        print \"Correct sequences ratio: %.5f\"%(correctness_ratio)\n",
    "        print \"C-s count mean abs error: %.5f\"%(c_count_mae)\n",
    "        \n",
    "        for tid_line in examples[:3]:\n",
    "            print ' '.join(map(alphabet.__getitem__,tid_line))\n",
    "\n",
    "    "
   ]
  },
  {
   "cell_type": "code",
   "execution_count": 33,
   "metadata": {
    "collapsed": false,
    "scrolled": true
   },
   "outputs": [
    {
     "data": {
      "image/png": "[encoded data removed]",
      "text/plain": [
       "<matplotlib.figure.Figure at 0x7f1071120c50>"
      ]
     },
     "metadata": {},
     "output_type": "display_data"
    },
    {
     "data": {
      "image/png": "[encoded data removed]",
      "text/plain": [
       "<matplotlib.figure.Figure at 0x7f106e3f3b50>"
      ]
     },
     "metadata": {},
     "output_type": "display_data"
    },
    {
     "data": {
      "image/png": "[encoded data removed]",
      "text/plain": [
       "<matplotlib.figure.Figure at 0x7f106c383dd0>"
      ]
     },
     "metadata": {},
     "output_type": "display_data"
    }
   ],
   "source": [
    "for metric in metrics:\n",
    "    plt.figure(figsize=[14,8])\n",
    "    plt.plot(*zip(*sorted(metrics[metric].items(),key=lambda (k,v):k)),label=metric)\n",
    "    plt.legend(loc='best')\n",
    "    plt.ylabel(\"popugai\")\n",
    "    plt.xlabel(\"epoch\")\n",
    "    plt.grid()"
   ]
  },
  {
   "cell_type": "code",
   "execution_count": null,
   "metadata": {
    "collapsed": true
   },
   "outputs": [],
   "source": []
  }
 ],
 "metadata": {
  "kernelspec": {
   "display_name": "Python [Root]",
   "language": "python",
   "name": "Python [Root]"
  },
  "language_info": {
   "codemirror_mode": {
    "name": "ipython",
    "version": 2
   },
   "file_extension": ".py",
   "mimetype": "text/x-python",
   "name": "python",
   "nbconvert_exporter": "python",
   "pygments_lexer": "ipython2",
   "version": "2.7.12"
  }
 },
 "nbformat": 4,
 "nbformat_minor": 0
}
